{
 "cells": [
  {
   "cell_type": "markdown",
   "id": "9a3ccb7a",
   "metadata": {},
   "source": [
    "# Optymalizacja zapytań django orm"
   ]
  },
  {
   "cell_type": "markdown",
   "id": "aed61773",
   "metadata": {},
   "source": [
    "Pracować będziemy na modelu postaci:\n",
    "\n",
    "<code>\n",
    "class Product(models.Model):\n",
    "    title = models.CharField(max_length=100)\n",
    "    manufacturer = models.CharField(max_length=100)\n",
    "    price = models.IntegerField()\n",
    "</code>\n",
    "<code>\n",
    "    a = models.CharField(max_length=100)\n",
    "    b = models.CharField(max_length=100)\n",
    "    c = models.CharField(max_length=100)\n",
    "</code>\n",
    "<code>    \n",
    "    product_secret_id = models.CharField(max_length=100)\n",
    "</code>\n",
    "\n",
    "Dopisz powyższy model do jednej ze swoich aplikacji."
   ]
  },
  {
   "cell_type": "markdown",
   "id": "67bad6ee",
   "metadata": {},
   "source": [
    "Najpierw linijki, które pozwolą nam swobodnie korzystać z Django w notatniku Jupyter."
   ]
  },
  {
   "cell_type": "code",
   "execution_count": 4,
   "id": "da4135ad",
   "metadata": {},
   "outputs": [],
   "source": [
    "import os\n",
    "import django\n",
    "os.environ.setdefault('DJANGO_SETTINGS_MODULE', 'rest.settings')\n",
    "os.environ[\"DJANGO_ALLOW_ASYNC_UNSAFE\"] = \"true\"\n",
    "django.setup()"
   ]
  },
  {
   "cell_type": "markdown",
   "id": "77cf9c96",
   "metadata": {},
   "source": [
    "Zaimportujmy model"
   ]
  },
  {
   "cell_type": "code",
   "execution_count": 5,
   "id": "0bab577b",
   "metadata": {},
   "outputs": [],
   "source": [
    "from relations.models import Product"
   ]
  },
  {
   "cell_type": "markdown",
   "id": "6f06caec",
   "metadata": {},
   "source": [
    "Dodajmy kilka wpisów"
   ]
  },
  {
   "cell_type": "code",
   "execution_count": 17,
   "id": "be19a585",
   "metadata": {},
   "outputs": [
    {
     "data": {
      "text/plain": [
       "<Product: Product object (3)>"
      ]
     },
     "execution_count": 17,
     "metadata": {},
     "output_type": "execute_result"
    }
   ],
   "source": [
    "product1 = Product.objects.create(\n",
    "    title='test1',\n",
    "    manufacturer='test',\n",
    "    price=100,\n",
    "    a='ala',\n",
    "    b='ma',\n",
    "    c='kota',\n",
    "    product_secret_id='1111'\n",
    ")\n",
    "\n",
    "product2 = Product.objects.create(\n",
    "    title='test2',\n",
    "    manufacturer='test',\n",
    "    price=10,\n",
    "    a='kot',\n",
    "    b='ma',\n",
    "    c='ale',\n",
    "    product_secret_id='2222'\n",
    ")\n",
    "\n",
    "product3 = Product.objects.create(\n",
    "    title='test3',\n",
    "    manufacturer='test',\n",
    "    price=1,\n",
    "    a='ewa',\n",
    "    b='ma',\n",
    "    c='psa',\n",
    "    product_secret_id='3333'\n",
    ")"
   ]
  },
  {
   "cell_type": "markdown",
   "id": "e830105e",
   "metadata": {},
   "source": [
    "I napiszmy zapytanie o wszystkie wpisy w tabelce."
   ]
  },
  {
   "cell_type": "code",
   "execution_count": 34,
   "id": "581d3eed",
   "metadata": {},
   "outputs": [
    {
     "name": "stdout",
     "output_type": "stream",
     "text": [
      "SELECT \"relations_product\".\"id\", \"relations_product\".\"title\", \"relations_product\".\"manufacturer\", \"relations_product\".\"price\", \"relations_product\".\"a\", \"relations_product\".\"b\", \"relations_product\".\"c\", \"relations_product\".\"product_secret_id\" FROM \"relations_product\"\n"
     ]
    }
   ],
   "source": [
    "products = Product.objects.all()\n",
    "print(products.query)"
   ]
  },
  {
   "cell_type": "markdown",
   "id": "9f8afc16",
   "metadata": {},
   "source": [
    "Powyższe zapytanie zwraca nam wartości WSZYSTKICH KOLUMN ze wszystkich wpisów w tabelce. Jak napisać zapytanie, które wyciągnie wartości tylko z wybranych kolumn?"
   ]
  },
  {
   "cell_type": "markdown",
   "id": "f85b6307",
   "metadata": {},
   "source": [
    "Możemy oczywiście wyciągnąć z queryseta tylko te wartości, które nas interesują"
   ]
  },
  {
   "cell_type": "code",
   "execution_count": 35,
   "id": "9d26e08d",
   "metadata": {},
   "outputs": [
    {
     "data": {
      "text/plain": [
       "[('test1', 'test', 100), ('test2', 'test', 10), ('test3', 'test', 1)]"
      ]
     },
     "execution_count": 35,
     "metadata": {},
     "output_type": "execute_result"
    }
   ],
   "source": [
    "[(product.title, product.manufacturer, product.price) for product in products]"
   ]
  },
  {
   "cell_type": "markdown",
   "id": "b0853b23",
   "metadata": {},
   "source": [
    "Ale w ten sposób wciąż wyciągamy z bazy znacznie więcej informacji niż jest nam potrzebne (i dopiero w pythonie wybieramy z tego wyciąganiętego zbiory tylko te informacje, które nas interesują). Może to generować szereg poważnych problemów:\n",
    "- im więcej danych chcemy wyciągnąć z bazy, tym dłużej użytkownicy będą czakać na wykonanie zapytania (oraz przesyłanie wyciągniętych danych) \n",
    "- w czasie kiedy wykonywane jest zapytanie na bazie inne zapytania muszą czekać, co ogranicza liczbę użytkowników jaką nasza aplikacja może płynnie obsłużyc\n",
    "- obecnie, często w rozwiązaniach chmurowych za wykonanie zapytania płaci się proporcjonalnie do czasu wykonywania tego zapytania na bazie, co jeszcze bardziej podnosi rangę problemu\n",
    "\n",
    "Oczywistym staje się potrzeba zminimalizowania ilość danych przesyłanych pomiędzy bazą a aplikacją. Chcemy wyciągnąć z bazy wyłącznie te informacje, które są nam potrzebne (co zawsze jest dobrą praktyką).\n",
    "\n",
    "Mamy 3 metody, których możemy w tym celu użyć:\n",
    "- `only`\n",
    "- `values`\n",
    "- `defer`"
   ]
  },
  {
   "cell_type": "markdown",
   "id": "763f2de8",
   "metadata": {},
   "source": [
    "### only"
   ]
  },
  {
   "cell_type": "code",
   "execution_count": 19,
   "id": "f5df52ee",
   "metadata": {},
   "outputs": [
    {
     "name": "stdout",
     "output_type": "stream",
     "text": [
      "SELECT \"relations_product\".\"id\", \"relations_product\".\"title\", \"relations_product\".\"manufacturer\", \"relations_product\".\"price\" FROM \"relations_product\"\n"
     ]
    }
   ],
   "source": [
    "products = Product.objects.all().only('title', 'manufacturer', 'price')\n",
    "print(products.query)"
   ]
  },
  {
   "cell_type": "code",
   "execution_count": 20,
   "id": "bac86769",
   "metadata": {},
   "outputs": [
    {
     "name": "stdout",
     "output_type": "stream",
     "text": [
      "<QuerySet [<Product: Product object (1)>, <Product: Product object (2)>, <Product: Product object (3)>]>\n"
     ]
    }
   ],
   "source": [
    "print(products)"
   ]
  },
  {
   "cell_type": "markdown",
   "id": "3edfc403",
   "metadata": {},
   "source": [
    "W wyniku otrzymujemy tradycyjnego queryseta, którego wartości to obiekty klasy Product"
   ]
  },
  {
   "cell_type": "markdown",
   "id": "c4a22aff",
   "metadata": {},
   "source": [
    "Użycie only nie zabezpiecza nas jednak przed odpytywaniem bazy o pola, których nie wyciągneliśmy z bazy. W przypadku, gdybyśmy odwołali się do pola a wpisu, django orm po prostu drugi raz uderzy na baze i pobierze tę wartość."
   ]
  },
  {
   "cell_type": "code",
   "execution_count": 23,
   "id": "1d598ef2",
   "metadata": {},
   "outputs": [
    {
     "data": {
      "text/plain": [
       "'ala'"
      ]
     },
     "execution_count": 23,
     "metadata": {},
     "output_type": "execute_result"
    }
   ],
   "source": [
    "products[0].a"
   ]
  },
  {
   "cell_type": "markdown",
   "id": "961de44a",
   "metadata": {},
   "source": [
    "W skrajnych przypadkach może to prowadzić do wykonania setek/tysięcy dodatkowych zapytań na bazę. Dlatego należy zwrócić szczególną uwagę na to, żeby w metodzie only umieścić wszystkie pola modelu, które zamierzamy użyć."
   ]
  },
  {
   "cell_type": "markdown",
   "id": "60252c0c",
   "metadata": {},
   "source": [
    "Do dyspozycji mamt też drugą metodą - `values`, która w niektórych scenariuszach moze okazać się lepszym rozwiązaniem."
   ]
  },
  {
   "cell_type": "markdown",
   "id": "1c401415",
   "metadata": {},
   "source": [
    "### values"
   ]
  },
  {
   "cell_type": "code",
   "execution_count": 24,
   "id": "f7fac8f3",
   "metadata": {},
   "outputs": [
    {
     "name": "stdout",
     "output_type": "stream",
     "text": [
      "SELECT \"relations_product\".\"title\", \"relations_product\".\"manufacturer\", \"relations_product\".\"price\" FROM \"relations_product\"\n"
     ]
    }
   ],
   "source": [
    "products = Product.objects.all().values('title', 'manufacturer', 'price')\n",
    "print(products.query)"
   ]
  },
  {
   "cell_type": "code",
   "execution_count": 25,
   "id": "013db520",
   "metadata": {},
   "outputs": [
    {
     "name": "stdout",
     "output_type": "stream",
     "text": [
      "<QuerySet [{'title': 'test1', 'manufacturer': 'test', 'price': 100}, {'title': 'test2', 'manufacturer': 'test', 'price': 10}, {'title': 'test3', 'manufacturer': 'test', 'price': 1}]>\n"
     ]
    }
   ],
   "source": [
    "print(products)"
   ]
  },
  {
   "cell_type": "markdown",
   "id": "76b30028",
   "metadata": {},
   "source": [
    "Tym razem dostaliśmy queryset, ale słowników (a nie obiektów klasy Product). "
   ]
  },
  {
   "cell_type": "code",
   "execution_count": 28,
   "id": "32870978",
   "metadata": {},
   "outputs": [
    {
     "name": "stdout",
     "output_type": "stream",
     "text": [
      "{'title': 'test1', 'manufacturer': 'test', 'price': 100}\n"
     ]
    }
   ],
   "source": [
    "print(products[0])"
   ]
  },
  {
   "cell_type": "code",
   "execution_count": 29,
   "id": "c91fe3f8",
   "metadata": {},
   "outputs": [
    {
     "name": "stdout",
     "output_type": "stream",
     "text": [
      "<class 'dict'>\n"
     ]
    }
   ],
   "source": [
    "print(type(products[0]))"
   ]
  },
  {
   "cell_type": "markdown",
   "id": "7f97a739",
   "metadata": {},
   "source": [
    "Korzyści:\n",
    "\n",
    "1. słowniki pythonowe zajmują mniej pamięci niż obiekty modelu\n",
    "2. nie jesteśmy już w stanie z pojedynczego elementu tego queryseta wyciągnąć wartość pola, którego nie zawarliśmy w parametrach metody `values`. "
   ]
  },
  {
   "cell_type": "code",
   "execution_count": 30,
   "id": "70bf8962",
   "metadata": {},
   "outputs": [
    {
     "name": "stdout",
     "output_type": "stream",
     "text": [
      "test1\n"
     ]
    }
   ],
   "source": [
    "print(products[0]['title'])"
   ]
  },
  {
   "cell_type": "markdown",
   "id": "118346b2",
   "metadata": {},
   "source": [
    "Istnieje jeszcze trzecia metoda, której możemy tutaj użyć - `defer`"
   ]
  },
  {
   "cell_type": "markdown",
   "id": "ebace08f",
   "metadata": {},
   "source": [
    "### defer"
   ]
  },
  {
   "cell_type": "code",
   "execution_count": 31,
   "id": "683577d3",
   "metadata": {},
   "outputs": [],
   "source": [
    "# TODO"
   ]
  }
 ],
 "metadata": {
  "kernelspec": {
   "display_name": "Django Shell-Plus",
   "language": "python",
   "name": "django_extensions"
  },
  "language_info": {
   "codemirror_mode": {
    "name": "ipython",
    "version": 3
   },
   "file_extension": ".py",
   "mimetype": "text/x-python",
   "name": "python",
   "nbconvert_exporter": "python",
   "pygments_lexer": "ipython3",
   "version": "3.11.1"
  }
 },
 "nbformat": 4,
 "nbformat_minor": 5
}
