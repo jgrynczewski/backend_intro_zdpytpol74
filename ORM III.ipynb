{
 "cells": [
  {
   "cell_type": "markdown",
   "id": "9a3ccb7a",
   "metadata": {},
   "source": [
    "# Django ORM - Instrukcje DML w relacjach"
   ]
  },
  {
   "cell_type": "markdown",
   "id": "aed61773",
   "metadata": {},
   "source": [
    "W bazach relacyjnych tabele mogą być powiązane ze sobą relacjami. W zależności od natury tego powiązania wyróżniamy kilka typów relacji. W Django ORM możemy wyróżnić trzy podstawowe typy relacji: jeden-do-jednego, jeden-do-wielu i wiele-do-wielu. Każda z tych relacji posiada w Django ORM swój odpowiednik w postaci pola modelu. I tak:\n",
    "* **OneToOneField** to pole odpowiadające relacji jeden do jednego\n",
    "* **ForeignKey** to pole odpowiadające relacji jeden do wielu\n",
    "* **ManyToManyField** to pole odpowiadające relacji wiele do wielu\n",
    "\n",
    "Omówmy je po kolei."
   ]
  },
  {
   "cell_type": "markdown",
   "id": "0e19c62b",
   "metadata": {},
   "source": [
    "## OneToOneField"
   ]
  },
  {
   "cell_type": "markdown",
   "id": "0cd54b30",
   "metadata": {},
   "source": [
    "Relacja jeden do jednego występuje w przypadku kiedy rekord jednej tabeli może być powiązany z jednym i tylko jednym wpisem drugiej tabeli. Przykładem takiej relacji może być tabela stolica oraz tabela państwo. Warszawa jest stolicą tylko jednego państwa - Polski, Polska ma przypisaną tylko jedną stolicę - Warszawę.\n",
    "\"Mówimy Warszawa myślimy Polska, mówimy Polska myślimy Warszawa\". Relacja jest symetryczna dlatego nie ma znaczenia, w której z tabelek (stolica, czy państwo) umieścimy kolumnę dla tej relacji."
   ]
  },
  {
   "cell_type": "markdown",
   "id": "7afe0792",
   "metadata": {},
   "source": [
    "**Definicje modeli**\n",
    "\n",
    "W modelach mamy dwie klasy: Country i Capitol. Relacje OneToOneField umieściliśmy po stronie modelu Country. Atrybut przechowujący relację nazwaliśmy capitol.\n",
    "\n",
    "<code>class Country(models.Model):\n",
    "    name = models.CharField(max_length=64)\n",
    "    capitol = models.OneToOneField('Capitol', on_delete=models.CASCADE)\n",
    "</code>\n",
    "\n",
    "<code>class Capitol(models.Model):\n",
    "    name = models.CharField(max_length=64)\n",
    "</code>"
   ]
  },
  {
   "cell_type": "markdown",
   "id": "d35b5423",
   "metadata": {},
   "source": [
    "### C z CRUD"
   ]
  },
  {
   "cell_type": "code",
   "execution_count": 1,
   "id": "4617eb31",
   "metadata": {},
   "outputs": [],
   "source": [
    "import os\n",
    "import django\n",
    "os.environ.setdefault('DJANGO_SETTINGS_MODULE', 'rest.settings')\n",
    "os.environ[\"DJANGO_ALLOW_ASYNC_UNSAFE\"] = \"true\"\n",
    "django.setup()"
   ]
  },
  {
   "cell_type": "code",
   "execution_count": null,
   "id": "6ae52664",
   "metadata": {},
   "outputs": [],
   "source": [
    "from relation_app.models import Country, Capital"
   ]
  },
  {
   "cell_type": "code",
   "execution_count": null,
   "id": "a245b89f",
   "metadata": {},
   "outputs": [],
   "source": [
    "# 1. Tworzymy wpis w tabeli Capital\n",
    "warsaw = Capital.objects.create(name=\"Warsaw\")"
   ]
  },
  {
   "cell_type": "code",
   "execution_count": null,
   "id": "ca41b762",
   "metadata": {},
   "outputs": [],
   "source": [
    "# 2. Tworzymy wpis tabeli Country\n",
    "poland = Country.objects.create(name=\"Poland\")"
   ]
  },
  {
   "cell_type": "code",
   "execution_count": null,
   "id": "915d4444",
   "metadata": {},
   "outputs": [],
   "source": [
    "# Nie możemy! Dostaliśmy IntegrityError.\n",
    "# Dlaczego?\n",
    "# Ponieważ pole capitol (z referencją do modelu Capital) nie może być puste, a my próbując stworzyć \n",
    "# wpis nie podaliśmy wartości w tym polu.\n",
    "\n",
    "# Spróbujmy dopisać\n",
    "poland = Country.objects.create(name=\"Poland\", capital=\"Warsaw\")"
   ]
  },
  {
   "cell_type": "code",
   "execution_count": null,
   "id": "5f4b201b",
   "metadata": {},
   "outputs": [],
   "source": [
    "# Znów się nie udało. Tym razem wprowadziliśmy wartość, ale była ona typu string. \n",
    "# Python informuje nas, że wprowadzana w tym polu wartość powinna być instancją klasy \n",
    "# (modelu) Capital.\n",
    "\n",
    "# Ale my już mamy taką jedną instancję. Przypisaliśmy ją do zmiennej warsaw, tworząc \n",
    "# pierwszy wpis w tabeli Captial.\n",
    "warsaw"
   ]
  },
  {
   "cell_type": "code",
   "execution_count": null,
   "id": "5fea6abd",
   "metadata": {},
   "outputs": [],
   "source": [
    "# czyli wystarczy teraz ją wykorzystać. To pierwszy sposób tworzenia.\n",
    "\n",
    "# Metada I (instancja modelu)\n",
    "poland = Country.objects.create(name=\"Poland\", capital=warsaw)"
   ]
  },
  {
   "cell_type": "code",
   "execution_count": null,
   "id": "7a513dcb",
   "metadata": {},
   "outputs": [],
   "source": [
    "# Oczywiście możemy używać tu również dwóch pozostałych metod tworzenia wpisów, \n",
    "# które już poznaliśmy.\n",
    "\n",
    "# Tworzymy wpis dla Francji (metoda II)\n",
    "paris = Capital(name=\"Paris\")\n",
    "paris.save()\n",
    "france = Country(name=\"France\", capital=paris)\n",
    "france.save()\n",
    "\n",
    "# Tworzymy wpis dla Włoch (metoda III)\n",
    "rome = Capital()\n",
    "rome.name = \"Rome\"\n",
    "rome.save()\n",
    "italy = Country()\n",
    "italy.name = \"Italy\"\n",
    "italy.capital = rome\n",
    "italy.save()"
   ]
  },
  {
   "cell_type": "code",
   "execution_count": null,
   "id": "641f59a9",
   "metadata": {},
   "outputs": [],
   "source": [
    "# Ale mamy jeszcze inny sposób. \n",
    "\n",
    "# Popatrzmy na to co posiada tabelka Country\n",
    "print(dir(Country))"
   ]
  },
  {
   "cell_type": "code",
   "execution_count": null,
   "id": "31b25364",
   "metadata": {},
   "outputs": [],
   "source": [
    "# Widać, że Django poza polem capitol wygenerowało również dla modelu Country pole capitol_id \n",
    "# reprezentujące id wpisu tabeli Capitol. Możemy użyć tego pola do utworzenia relacji.\n",
    "\n",
    "# Metoda II (id instancji modelu)\n",
    "\n",
    "# 1. Tworzymy wpis w tabeli Capitol\n",
    "berlin = Capital.objects.create(name=\"Berlin\")\n",
    "berlin_id = berlin.id  # -> 2\n",
    "\n",
    "# 2. Tworzymy wpis w tabeli Country przekazując id instancji modelu Capitol\n",
    "germany = Country.objects.create(name=\"Germany\", capital_id=berlin_id)"
   ]
  },
  {
   "cell_type": "markdown",
   "id": "ad022d40",
   "metadata": {},
   "source": [
    "## ForeignKey"
   ]
  },
  {
   "cell_type": "markdown",
   "id": "cf42bd64",
   "metadata": {},
   "source": [
    "Relacja jeden do wielu jest najczęściej wykorzystywanym typem relacji. Występuje wtedy, kiedy wpis z jednej tabeli (tzw. tabeli rodzica) może być powiązany z wieloma wpisami z drugiej (tzw. tabeli dziecka), ale wpis z drugiej tabeli (tabeli dziecka) nie może być powiązany z wielom wpisami z pierwszej (tabeli rodzica). Innymi słowy rodzic może mieć wiele dzieci, ale dziecko może mieć tylko jednego rodzica. Przykładem takiej relacji może być tabela \"miasto\" oraz tabela \"państwo\". Gdańsk należy do Polski. Kraków należy do Polski. Mówiąc Gdańsk myślimy Polska (to strona relacja \"jeden\"). Podobnie mówiąc Kraków myślimy Polska. Ale już mówiąc Polska myślimy Gdańsk, Kraków, Wrocław, ... (to strona relacji \"wiele\"). \n",
    "\n",
    "Najprościej jest wyobrazić sobie relacje jeden-do-wielu jako strukturę hierarchiczną, czyli drzewo. Na górze mamy rodzica, a pod nim wiele dzieci. Tutaj Polska jest rodzicem, a Gdańsk, Kraków, Wrocław, ... dziećmi. To po której stronie umieścimy pole do przechowywania relacji zależy wyłącznie od nas. Zazwyczaj znacznie łatwiej myśli się o takiej relacji, kiedy pole umieści się po stronie dziecka (ponieważ dziecko ma tylko jednego rodzica). Czyli umieszczamy pole ForeignKey w modelu \"miasto\" i wpisy Gdańsk, Kraków, Wrocław posiadają referencje do wpisu Polska z modelu \"państwo\". \n",
    "\n",
    "Innym przykładem takiej relacji może być język programowania i framework. Jezyk programowania to np. Python. Framework to np. Django, Flask, Bottle. Rodzicem jest tu język programowania, dziećmi poszczególne frameworki (mówimy Python myślimy Django, Flask, Bottle... ale mówimy Django myślimy Python). Czyli pole z relacją najlepiej umieścić po stronie modelu Framework."
   ]
  },
  {
   "cell_type": "markdown",
   "id": "dcc919f9",
   "metadata": {},
   "source": [
    "**Definicje modeli**\n",
    "\n",
    "W modelach mamy dwie klasy: Language i Framework. Relacje ForignKey umieściliśmy po stronie modelu Framework (dziecko). Atrybut przechowujący relację nazwaliśmy language.\n",
    "\n",
    "<code>class Language(models.Model):\n",
    "    name = models.CharField(max_length=64)\n",
    "</code>\n",
    "<code>\n",
    "    def __str__(self):\n",
    "        return f\"{self.name}\"\n",
    "</code>\n",
    "\n",
    "<code>class Framework(models.Model):\n",
    "    name = models.CharField(max_length=64)\n",
    "    language = models.ForeignKey('Language', on_delete=models.CASCADE)\n",
    "</code>\n",
    "<code>\n",
    "    def __str__(self):\n",
    "        return f\"{self.name} ({self.language})\"\n",
    "</code>"
   ]
  },
  {
   "cell_type": "markdown",
   "id": "519c5966",
   "metadata": {},
   "source": [
    "### C z CRUD"
   ]
  },
  {
   "cell_type": "markdown",
   "id": "8b383c05",
   "metadata": {},
   "source": [
    "Operacje \"C\" niczym się nie różnią od tych dla pola OneToOneField. W ramach utrwalenia przypomnijmy, że mamy dwie metody."
   ]
  },
  {
   "cell_type": "code",
   "execution_count": 3,
   "id": "cbd0991f",
   "metadata": {},
   "outputs": [],
   "source": [
    "from relations_app.models import Language, Framework"
   ]
  },
  {
   "cell_type": "code",
   "execution_count": 4,
   "id": "debe9fc3",
   "metadata": {},
   "outputs": [],
   "source": [
    "# Metad I (instancja modelu)\n",
    "\n",
    "python = Language.objects.create(name=\"python\")\n",
    "django = Framework.objects.create(name=\"django\", language=python)\n",
    "flask = Framework.objects.create(name=\"flask\", language=python)"
   ]
  },
  {
   "cell_type": "code",
   "execution_count": 5,
   "id": "53ae3a95",
   "metadata": {},
   "outputs": [],
   "source": [
    "# Metad II (id instancji modelu)\n",
    "\n",
    "java = Language.objects.create(name=\"java\")\n",
    "spring = Framework.objects.create(name=\"spring\", language_id=java.id)"
   ]
  },
  {
   "cell_type": "markdown",
   "id": "922694d8",
   "metadata": {},
   "source": [
    "### R z CRUD"
   ]
  },
  {
   "cell_type": "markdown",
   "id": "6b2ac7fd",
   "metadata": {},
   "source": [
    "Na początek wyświetlmy wszystkie framework-i."
   ]
  },
  {
   "cell_type": "code",
   "execution_count": null,
   "id": "1c54d6f6",
   "metadata": {},
   "outputs": [],
   "source": [
    "Framework.objects.all()  # doróbmy __str__ modelom Framework i Language"
   ]
  },
  {
   "cell_type": "code",
   "execution_count": null,
   "id": "15cd5858",
   "metadata": {},
   "outputs": [],
   "source": [
    "# A frameworki tylko dla konkretnego języka?\n",
    "# Klasyczny filtr po polu language.\n",
    "\n",
    "# 1. Pobieramy obiekt, po którym będziemy wyszukiwać.\n",
    "python = Language.objects.get(name='python')\n",
    "\n",
    "# 2. Wyszukujemy po pobranym obiekcie.\n",
    "frameworks = Framework.objects.filter(language=python)\n",
    "print(frameworks)"
   ]
  },
  {
   "cell_type": "code",
   "execution_count": null,
   "id": "0f773499",
   "metadata": {},
   "outputs": [],
   "source": [
    "# wartością atrybutu reprezentującego relację jest obiekt\n",
    "django = Framework.objects.get(name='django')\n",
    "print(django.language)\n",
    "print(type(django.language))"
   ]
  },
  {
   "cell_type": "code",
   "execution_count": null,
   "id": "85a93fbc",
   "metadata": {},
   "outputs": [],
   "source": [
    "print(dir(Language))"
   ]
  },
  {
   "cell_type": "code",
   "execution_count": null,
   "id": "1e045ee7",
   "metadata": {},
   "outputs": [],
   "source": [
    "# Realizacja relacji odwrotnej w Django\n",
    "python = Language.objects.get(name='python')\n",
    "python.framework_set  # powiązany menadżer obiektu\n",
    "\n",
    "\n",
    "print(python.framework_set.all())\n",
    "print(python.framework_set.filter(name__startswith='dj'))"
   ]
  },
  {
   "cell_type": "code",
   "execution_count": null,
   "id": "384b14fd",
   "metadata": {},
   "outputs": [],
   "source": [
    "# Drugie zastosowanie lookupów - lookupy działają też na relacjach\n",
    "\n",
    "# Wyciągnij wszystkie frameworki pythona\n",
    "\n",
    "# metoda I\n",
    "python = Language.objects.get(name='python')\n",
    "frameworks = Framework.objects.filter(language=python)\n",
    "print(frameworks)\n",
    "\n",
    "# metoda II (z użyciem lookup)\n",
    "Framework.objects.filter(language__name=\"python\")"
   ]
  },
  {
   "cell_type": "markdown",
   "id": "8c5b9798",
   "metadata": {},
   "source": [
    "## ManyToMany"
   ]
  },
  {
   "cell_type": "markdown",
   "id": "a93f9b57",
   "metadata": {},
   "source": [
    "Ostatnia z omawianych relacji to relacja wiele-do-wielu. Dotyczy sytuacji kiedy wpisy z jednej tabeli mogą być powiązane z wielom wpisami z drugiej oraz wpisy z drugiej tabeli mogą być powiązane z wieloma wpisami z tabeli pierwszej. Przykładem takiej relacji może być tabela Aktor oraz tabela Film. Mówimy Al Pacino myślimy Scareface, Gorączka, Ojciec Chrzestny... Mówimy Ojciec Chrzestny myślimy Al Pacino, Robert DeNiro, Marlon Brando ... Relację możemy umieścić w dowolnej z powiązanych tabeli.\n",
    "Jest to najbardziej złożony typ relacji, ponieważ zgodnie z zasadami normalizacji realizacja relacji wiele-do-wielu wymaga wprowadzenia tabeli pośredniej. Na szczęście django ORM o tym wszystkim wie i my nie musimy przejmować się tworzeniem nowej tabeli. Django utworzy ją za nas, a naszym zadaniem jest tylko wskazać, że chcemy mieć relację wiele-do-wielu.\n",
    "\n",
    "**Definicje modeli**\n",
    "\n",
    "W modelach mamy dwie klasy: Actor i Movie. Relacje ManyToMany umieszczamy po stronie Movie (ale równie dobrze moglibyśmy umieścić po stronie Actor). Atrybut przechowujący relację nazwaliśmy actors (zwróć uwagę na to, że tym razem w nazwie pola użyliśmy liczby mnogiej).\n",
    "\n",
    "<code>class Actor(models.Model):\n",
    "    name = models.CharField(max_length=64)\n",
    "</code>\n",
    "<code>\n",
    "    def __str__(self):\n",
    "        return f\"{self.name}\"\n",
    "</code>\n",
    "\n",
    "<code>class Movie(models.Model):\n",
    "    title = models.CharField(max_length=128)\n",
    "    actors = models.ManyToManyField('Actor')\n",
    "</code>\n",
    "<code>\n",
    "    def __str__(self):\n",
    "        return f\"{self.title}\"\n",
    "</code>\n"
   ]
  },
  {
   "cell_type": "markdown",
   "id": "d717f558",
   "metadata": {},
   "source": [
    "Kiedy spojrzymy do bazy przekonamy się, że tabela actor nie mam kolumny movies. Zamiast tego w bazie możemy znaleźć tabelę o nazwie actor_movies (tabela pośrednia). Dodajmy kilka fimów i aktorów."
   ]
  },
  {
   "cell_type": "code",
   "execution_count": null,
   "id": "b0b2a060",
   "metadata": {},
   "outputs": [],
   "source": [
    "from relation_app.models import Actor, Movie\n",
    "\n",
    "movie_1 = Movie.objects.create(title='The Godfather')\n",
    "movie_2 = Movie.objects.create(title='The Heat')\n",
    "movie_3 = Movie.objects.create(title='The Irishman')\n",
    "movie_4 = Movie.objects.create(title='Taxi Driver')\n",
    "movie_5 = Movie.objects.create(title='Matrix')\n",
    "\n",
    "actor_1 = Actor.objects.create(name='Al Pacino')\n",
    "actor_2 = Actor.objects.create(name='Robert De Niro')\n",
    "actor_3 = Actor.objects.create(name='Keanu Reeves')"
   ]
  },
  {
   "cell_type": "markdown",
   "id": "00675b7e",
   "metadata": {},
   "source": [
    "Patrzymy do bazy i widzimy wpisy w tabeli movie i wpisy w tabeli actor, ale w tabeli movie_actors mamy 0 wpisów. W jaki sposób powiązać teraz wpisy z tabeli movie z wpisami z tabeli actor? "
   ]
  },
  {
   "cell_type": "code",
   "execution_count": null,
   "id": "cb85a099",
   "metadata": {},
   "outputs": [],
   "source": [
    "# Sposób I - metoda add\n",
    "movie_1.actors.add(actor_1)"
   ]
  },
  {
   "cell_type": "code",
   "execution_count": null,
   "id": "441003ca",
   "metadata": {},
   "outputs": [],
   "source": [
    "# Sposób II - metoda add (od drugiej strony relacji)\n",
    "actor_2.movie_set.add(movie_1)"
   ]
  },
  {
   "cell_type": "code",
   "execution_count": null,
   "id": "8a92b4a8",
   "metadata": {},
   "outputs": [],
   "source": [
    "# Sposób III - metoda create (metoda która jednocześnie tworzy wpis i powiązuje go)\n",
    "movie_1.actors.create(name=\"Marlon Brando\")"
   ]
  },
  {
   "cell_type": "code",
   "execution_count": null,
   "id": "edba4212",
   "metadata": {},
   "outputs": [],
   "source": [
    "# Sposób IV - metoda set (jeżeli chcemy utworzyć kilka powiązań)\n",
    "actors_list = [actor_1, actor_2]\n",
    "movie_2.actors.set(actors_list)"
   ]
  },
  {
   "cell_type": "code",
   "execution_count": null,
   "id": "bb34c618",
   "metadata": {},
   "outputs": [],
   "source": [
    "# Sposób V - metoda add też może służyc do dodania kilku powiązań jednocześnie, tylko trzeb użyć operatora rozpakowywania\n",
    "movie_3.actors.add(*actors_list)"
   ]
  },
  {
   "cell_type": "markdown",
   "id": "ccfb338b",
   "metadata": {},
   "source": [
    "Różnica pomiędzy sposobem IV i V polega na tym, że metoda set nadpisze wszystkie istniejące powiązania movie_2 podczas gdy metoda add do istniejących powiązań movie_3 doda nowe."
   ]
  },
  {
   "cell_type": "code",
   "execution_count": null,
   "id": "d7d5a341",
   "metadata": {},
   "outputs": [],
   "source": [
    "# Oczywiście to samo możemy robić wychodząc od drugiej strony relacji\n",
    "actor_3.movie_set.add(movie_5)"
   ]
  },
  {
   "cell_type": "markdown",
   "id": "a04a9761",
   "metadata": {},
   "source": [
    "Tym razem po obu stronach relacji mamych powiązane menadżery (ang. *related manager*)"
   ]
  },
  {
   "cell_type": "code",
   "execution_count": null,
   "id": "cd8a6a66",
   "metadata": {},
   "outputs": [],
   "source": [
    "# Wszystki poznane wcześniej reguły pozostają w mocy\n",
    "\n",
    "# Wszystkie filmy, w których zagrał Al Pacino - metoda I\n",
    "Movie.objects.filter(actors__name=\"Al Pacino\")"
   ]
  },
  {
   "cell_type": "code",
   "execution_count": null,
   "id": "75031a76",
   "metadata": {},
   "outputs": [],
   "source": [
    "# Wszystkie filmy w których zagrał Al Pacino - metoda II\n",
    "actor_1.movie_set.all()"
   ]
  },
  {
   "cell_type": "code",
   "execution_count": null,
   "id": "0a935c4b",
   "metadata": {},
   "outputs": [],
   "source": [
    "# Wszyscy aktorzy, którzy zagrali w 'The Godfather'\n",
    "movie_1.actors.all()"
   ]
  }
 ],
 "metadata": {
  "kernelspec": {
   "display_name": "Django Shell-Plus",
   "language": "python",
   "name": "django_extensions"
  },
  "language_info": {
   "codemirror_mode": {
    "name": "ipython",
    "version": 3
   },
   "file_extension": ".py",
   "mimetype": "text/x-python",
   "name": "python",
   "nbconvert_exporter": "python",
   "pygments_lexer": "ipython3",
   "version": "3.11.1"
  }
 },
 "nbformat": 4,
 "nbformat_minor": 5
}
