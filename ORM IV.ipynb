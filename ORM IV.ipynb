{
 "cells": [
  {
   "cell_type": "markdown",
   "id": "9a3ccb7a",
   "metadata": {},
   "source": [
    "# Rozszerzenie relacji M2M"
   ]
  },
  {
   "cell_type": "markdown",
   "id": "aed61773",
   "metadata": {},
   "source": [
    "Czasami chcemy rozszerzyć informacje o jakimś powiazaniu. Może to być np. informacja o dacie złożenia zamówienia przez klienta (to będzie o2m, ponieważ klient może mieć wiele zamówień, jedno zamówienie może być przypisane tylko do jednego klienta) lub informacja o wysokości zakonktraktowanej gaży aktora za występ w filmie (to już będzie m2m). O ile w przypadku realcji o2o i o2m takie rozszerzenie poleg na dodaniu kolejnej kolumny w tabeli, w której umieściliśmy powiązanie, o tyle w przypadku relacji m2m dodatkową kolumnę umieszczamy w tabeli pośredniej. Tworząc relacje m2m w Django nie przejmowaliśmy się tabelą pośrednią. Wiemy, że Django wygeneruje taką tabelę automatycznie. Niestety, jeżeli chcemy rozszerzyć relacje m2m o dodatkową kolumnę to sami musimy już zdefniować tabelkę pośrednią i przypisać jej odpowiednie kolumny. W tym celu tworzymy tzw. model pośredni (ang. **intermediate model**)"
   ]
  },
  {
   "cell_type": "markdown",
   "id": "d2e5ea8d",
   "metadata": {},
   "source": [
    "W przykładzie (zaczerpniętym z dokumentacji Django) mamy dwie tabele - Person i Band.\n",
    "\n",
    "<code>\n",
    "class Person(models.Model):\n",
    "    name = models.CharField(max_length=128)\n",
    "</code>\n",
    "<code>\n",
    "    def __str__(self):\n",
    "        return self.name\n",
    "</code>\n",
    "\n",
    "\n",
    "<code>\n",
    "class Group(models.Model):\n",
    "    name = models.CharField(max_length=128)\n",
    "</code>\n",
    "<code>\n",
    "    def __str__(self):\n",
    "        return self.name\n",
    "</code>"
   ]
  },
  {
   "cell_type": "markdown",
   "id": "03f5d022",
   "metadata": {},
   "source": [
    "Osoba może wchodzić w skład wielu zespołów, a zespół może składać się z wielu osób. Dodajemy relacji m2m (po stronie zespołu).\n",
    "\n",
    "<code>\n",
    "class Person(models.Model):\n",
    "    name = models.CharField(max_length=128)\n",
    "</code>\n",
    "<code>\n",
    "    def __str__(self):\n",
    "        return self.name\n",
    "</code>\n",
    "\n",
    "\n",
    "<code>\n",
    "class Group(models.Model):\n",
    "    name = models.CharField(max_length=128)\n",
    "    members = models.ManyToManyField(Person)\n",
    "</code>\n",
    "<code>\n",
    "    def __str__(self):\n",
    "        return self.name\n",
    "</code>"
   ]
  },
  {
   "cell_type": "markdown",
   "id": "6dcf90a0",
   "metadata": {},
   "source": [
    "I teraz załóżmy, że dodatkowo chcemy przechować też informacje o dacie dołączenia osoby do zespołu. Taka informacja będzie dotyczyła powiązania (tzn. data dotyczyć będzie połączenia konkretnej osoby z konkretnym zespołem), a nie samej osoby lub samego zespołu. W tym celu defniujemy model pośredni, nazywamy go Membership i umieszczajamy w nim wszystkie potrzebne kolumny. Następnie za pomocą parametru `through`, w polu ManyToManyField wskazujemy, że to pole ManyToManyField realizowane jest poprzez model pośredni `Membership`."
   ]
  },
  {
   "cell_type": "markdown",
   "id": "68b888f2",
   "metadata": {},
   "source": [
    "### Pełny przykład\n",
    "\n",
    "<code>\n",
    "class Person(models.Model):\n",
    "    name = models.CharField(max_length=128)\n",
    "</code>\n",
    "<code>\n",
    "    def __str__(self):\n",
    "        return self.name\n",
    "</code>\n",
    "\n",
    "\n",
    "<code>\n",
    "class Group(models.Model):\n",
    "    name = models.CharField(max_length=128)\n",
    "    members = models.ManyToManyField(Person, , through='Membership')\n",
    "</code>\n",
    "<code>\n",
    "    def __str__(self):\n",
    "        return self.name\n",
    "</code>\n",
    "\n",
    "<code>\n",
    "class Membership(models.Model):\n",
    "    person = models.ForeignKey(Person, on_delete=models.CASCADE)\n",
    "    group = models.ForeignKey(Group, on_delete=models.CASCADE)\n",
    "    date_joined = models.DateField()\n",
    "</code>"
   ]
  },
  {
   "cell_type": "markdown",
   "id": "f1b49c1c",
   "metadata": {},
   "source": [
    "Jeżeli nie masz powyższego przykładu w swoim projekcie, przeklej go (do pliku models.py wybranej aplikacji), a następnie przygotuj i wykonaj migracje. W dalszej części notatnika będziemy korzystać ze wszystkich trzech modeli."
   ]
  },
  {
   "cell_type": "markdown",
   "id": "2deeec29",
   "metadata": {},
   "source": [
    "Standradowo, najpierw linijki, które pozwolą nam swobodnie korzystać z Django w notatniku Jupyter."
   ]
  },
  {
   "cell_type": "code",
   "execution_count": null,
   "id": "34af9308",
   "metadata": {},
   "outputs": [],
   "source": [
    "import os\n",
    "import django\n",
    "os.environ.setdefault('DJANGO_SETTINGS_MODULE', 'rest.settings')\n",
    "os.environ[\"DJANGO_ALLOW_ASYNC_UNSAFE\"] = \"true\"\n",
    "django.setup()"
   ]
  },
  {
   "cell_type": "markdown",
   "id": "14b41419",
   "metadata": {},
   "source": [
    "Importujemy potrzebne biblioteki i modele"
   ]
  },
  {
   "cell_type": "code",
   "execution_count": null,
   "id": "a4923676",
   "metadata": {},
   "outputs": [],
   "source": [
    "from datetime import date\n",
    "\n",
    "from relations_app.models import Person, Band, Membership"
   ]
  },
  {
   "cell_type": "markdown",
   "id": "153557cd",
   "metadata": {},
   "source": [
    "**C z CRUD**"
   ]
  },
  {
   "cell_type": "code",
   "execution_count": null,
   "id": "a059188c",
   "metadata": {},
   "outputs": [],
   "source": [
    "# Tworzymy wpisy Ringo Starr, John Lennon i Paul McCartney w tabeli Person i wpis The Beatles w tabeli Band\n",
    "ringo = Person.objects.create(name=\"Ringo Starr\")\n",
    "john = Person.objects.create(name=\"John Lennon\")\n",
    "paul = Person.objects.create(name=\"Paul McCartney\")\n",
    "\n",
    "beatles = Band.objects.create(name=\"The Beatles\")"
   ]
  },
  {
   "cell_type": "markdown",
   "id": "a9423b7b",
   "metadata": {},
   "source": [
    "Popatrzmy na utwrzone obiekty"
   ]
  },
  {
   "cell_type": "code",
   "execution_count": null,
   "id": "5859d298",
   "metadata": {},
   "outputs": [],
   "source": [
    "print(dir(beatles))  # widzimy menadżer powiązany - members"
   ]
  },
  {
   "cell_type": "code",
   "execution_count": null,
   "id": "a4159e3a",
   "metadata": {},
   "outputs": [],
   "source": [
    "print(dir(paul))  # widzimy menadżer powiązany - band_set"
   ]
  },
  {
   "cell_type": "markdown",
   "id": "4e62186c",
   "metadata": {},
   "source": [
    "W obu modelach poza poznanym już wcześniej menadżerem powiązanym mamy też menadżer powiązany do modelu pośredniego - membership_set"
   ]
  },
  {
   "cell_type": "markdown",
   "id": "3dfef7d3",
   "metadata": {},
   "source": [
    "Dodajemy powiązanie z zespołem"
   ]
  },
  {
   "cell_type": "code",
   "execution_count": null,
   "id": "997899b5",
   "metadata": {},
   "outputs": [],
   "source": [
    "# Version I (bezpośrednie użycie modelu pośredniego)\n",
    "m1 = Membership(person=ringo, band=beatles, date_joined=date(1962, 8, 16))\n",
    "m1.save()"
   ]
  },
  {
   "cell_type": "code",
   "execution_count": null,
   "id": "ad663218",
   "metadata": {},
   "outputs": [],
   "source": [
    "# Version II (użycie menadżera powiązanego modelu Band)\n",
    "beatles.members.add(john, through_defaults={'date_joined': date(1960, 8, 1)})\n",
    "\n",
    "# zwróć uwagę, że dane dla kolumn rozszerzających podajemy w postaci słownika przy użyciu parametru through_defaults, \n",
    "# w słowniku muszą znaleźć się wszystkie rozszerzające model pośredni dane."
   ]
  },
  {
   "cell_type": "code",
   "execution_count": null,
   "id": "03e3bfeb",
   "metadata": {},
   "outputs": [],
   "source": [
    "# Version III (użycie menadżera powiązanego modelu Person)\n",
    "paul.band_set.add(beatles, through_defaults={'date_joined': date(1960, 8, 1)})"
   ]
  },
  {
   "cell_type": "code",
   "execution_count": null,
   "id": "5fe470ae",
   "metadata": {},
   "outputs": [],
   "source": [
    "# Version IV (za pomocą metody create - jednoczesne utworzenie wpisu i dodanie powiązania)\n",
    "george = beatles.members.create(name=\"George Harrison\", through_defaults={'date_joined': date(1960, 8, 1)})\n",
    "\n",
    "# tutaj w parametrach trzeba podać wszystkie dane potrzebne do utworzenia wpisu w tabeli Person"
   ]
  },
  {
   "cell_type": "code",
   "execution_count": null,
   "id": "9dc84daa",
   "metadata": {},
   "outputs": [],
   "source": [
    "# Version V (za pomocą metody set - analogicznie jak w przypadk 'czystej' relacji m2m)\n",
    "beatles.members.set([john, paul, ringo], through_defaults={'date_joined': date(1960, 8, 1)})\n",
    "\n",
    "# metody set możemy użyć jeżeli wszystkie podane w liście wpisy mają te same wartości w kolumnach rozszerzających \n",
    "# model pośredni (czylie te same wartości w słowniku przypisywanym do parametru through_defaults)."
   ]
  },
  {
   "cell_type": "markdown",
   "id": "852658f0",
   "metadata": {},
   "source": [
    "**R z CRUD**"
   ]
  },
  {
   "cell_type": "markdown",
   "id": "05fa9748",
   "metadata": {},
   "source": [
    "Znajdź wszystkie zespoły, które w składzie posiadają osoby z wartością w kolumnie name zaczynającą się na 'Paul'"
   ]
  },
  {
   "cell_type": "code",
   "execution_count": null,
   "id": "2aceec95",
   "metadata": {},
   "outputs": [],
   "source": [
    "Band.objects.filter(members__name__startswith='Paul')"
   ]
  },
  {
   "cell_type": "markdown",
   "id": "c997a1d2",
   "metadata": {},
   "source": [
    "Znajdź wszystkie osoby, które przyłączyły się do zespołu 'The Beatles' po 1 Jan 1961"
   ]
  },
  {
   "cell_type": "code",
   "execution_count": null,
   "id": "e731f9e0",
   "metadata": {},
   "outputs": [],
   "source": [
    "Person.objects.filter(band__name='The Beatles', membership__date_joined__gt=date(1961, 1, 1))"
   ]
  },
  {
   "cell_type": "markdown",
   "id": "3179a5a5",
   "metadata": {},
   "source": [
    "A jak zapytać się o informacje uzupełniającą (w naszym przypadku o datę przyłączenia się do zespołu)? W którym roku do zespołu 'The Beatles' przyłączył się Ringo Starr?"
   ]
  },
  {
   "cell_type": "code",
   "execution_count": null,
   "id": "6fcc30f3",
   "metadata": {},
   "outputs": [],
   "source": [
    "# Version I (przez bezpośrednie odpytanie modelu pośredniego)\n",
    "ringos_membership = Membership.objects.get(band=beatles, person=ringo)\n",
    "ringos_membership.date_joined"
   ]
  },
  {
   "cell_type": "code",
   "execution_count": null,
   "id": "a73a1a8a",
   "metadata": {},
   "outputs": [],
   "source": [
    "# Version II (za pomocą menadżera powiązanego z modelem pośrednim z poziomu modelu Person)\n",
    "ringos_membership = ringo.membership_set.get(band=beatles)\n",
    "ringos_membership.date_joined"
   ]
  },
  {
   "cell_type": "code",
   "execution_count": null,
   "id": "279dccb3",
   "metadata": {},
   "outputs": [],
   "source": [
    "# Version III (za pomocą menadżera powiązanego z modelem pośrednim z poziomu modelu Band)\n",
    "ringos_membership = beatles.membership_set.get(person=ringo)\n",
    "ringos_membership.date_joined"
   ]
  },
  {
   "cell_type": "markdown",
   "id": "c72a85b6",
   "metadata": {},
   "source": [
    "**U z CRUD**"
   ]
  },
  {
   "cell_type": "markdown",
   "id": "c4d7a6fd",
   "metadata": {},
   "source": [
    "**D z CRUD**"
   ]
  },
  {
   "cell_type": "markdown",
   "id": "7a49a201",
   "metadata": {},
   "source": [
    "W jaki sposób możemy usuwać powiązania?"
   ]
  },
  {
   "cell_type": "code",
   "execution_count": null,
   "id": "bf50c016",
   "metadata": {},
   "outputs": [],
   "source": [
    "# Version I (bezpośrednio z modelu pośredniego)\n",
    "ringos_membership = Membership.objects.get(band=beatles, person=ringo)\n",
    "ringos_membership.delete()"
   ]
  },
  {
   "cell_type": "code",
   "execution_count": null,
   "id": "35f39384",
   "metadata": {},
   "outputs": [],
   "source": [
    "# Version II (za pomocą metody remove menadżera powiązanego modelu Band)\n",
    "beatles.members.remove(john)\n",
    "\n",
    "# metoda remove zwraca None"
   ]
  },
  {
   "cell_type": "code",
   "execution_count": null,
   "id": "6827fc0f",
   "metadata": {},
   "outputs": [],
   "source": [
    "# Version III (za pomocą metody remove menadżera powiązanego modelu Person)\n",
    "paul.band_set.remove(beatles)"
   ]
  },
  {
   "cell_type": "markdown",
   "id": "412475d5",
   "metadata": {},
   "source": [
    "# Zagadnienia dodatkowe"
   ]
  },
  {
   "cell_type": "markdown",
   "id": "877b4e4a",
   "metadata": {},
   "source": [
    "**Optymlizcja zapytań**\n"
   ]
  },
  {
   "cell_type": "markdown",
   "id": "9639b174",
   "metadata": {},
   "source": [
    "W jaki sposób, za pomocą dotychczas poznanych narzędzi moglibyś zrealizować joina?"
   ]
  },
  {
   "cell_type": "markdown",
   "id": "d9897874",
   "metadata": {},
   "source": [
    "Weźmy tabelki Framework i language"
   ]
  },
  {
   "cell_type": "code",
   "execution_count": null,
   "id": "f4ddc7eb",
   "metadata": {},
   "outputs": [],
   "source": [
    "from relations_app.models import Framework, Language"
   ]
  },
  {
   "cell_type": "markdown",
   "id": "feda0147",
   "metadata": {},
   "source": [
    "Z tabelki Framework wyciągnijmy Django"
   ]
  },
  {
   "cell_type": "code",
   "execution_count": null,
   "id": "fd23fb63",
   "metadata": {},
   "outputs": [],
   "source": [
    "django_qs = Framework.objects.filter(name='django')\n",
    "\n",
    "# na bazie wykona się taka sqlka\n",
    "print(django_qs.query)"
   ]
  },
  {
   "cell_type": "code",
   "execution_count": null,
   "id": "218f66c1",
   "metadata": {},
   "outputs": [],
   "source": [
    "django = django_qs[0]\n",
    "django"
   ]
  },
  {
   "cell_type": "code",
   "execution_count": null,
   "id": "3cfdcf0e",
   "metadata": {},
   "outputs": [],
   "source": [
    "# jeżeli teraz chcemy wyciągnąć powiązany z wpisem django wpis z tabelki Language\n",
    "python = django.language\n",
    "\n",
    "# to django orm musi wykonać kolejne zapytanie na bazę\n",
    "python"
   ]
  },
  {
   "cell_type": "markdown",
   "id": "e4774f30",
   "metadata": {},
   "source": [
    "Załóżmy teraz, że chcemy wyświetlić język wszystkich frameworków zapisanych w bazie. Wykorzystując dotychczas poznane narzędzie kod będzie wyglądał mniej więcej tak:"
   ]
  },
  {
   "cell_type": "code",
   "execution_count": null,
   "id": "9814212f",
   "metadata": {},
   "outputs": [],
   "source": [
    "frameworks = Framework.objects.all()\n",
    "\n",
    "for framework in frameworks:\n",
    "    print(framework.language)"
   ]
  },
  {
   "cell_type": "markdown",
   "id": "153aa587",
   "metadata": {},
   "source": [
    "Przy założeniu, że w bazie mamy zapisane 100 frameworków django będzie musiał uderzyć na bazę 101 razy (raz, żeby wyciągnąć wszystkie frameworki i później po razie na każdy framework, żeby wyciągnąć jego język). "
   ]
  },
  {
   "cell_type": "markdown",
   "id": "80036a77",
   "metadata": {},
   "source": [
    "Znając klauzulę JOIN wiemy, że z jej użyciem możnabyłoby wszystkie potrzebne informacje wyciągnąc za pomocą jednego zapytania na bazę. Ma to szczególne znaczenie, kiedy wyciągamy dużo wpisów (np. 100 albo 1000). 1000 dodatkowych zapytań do bazy może wygenerować już zauważalne wydłużenie czasu wykonywania kodu. Jak zmusić django orm do wykonania JOINa?"
   ]
  },
  {
   "cell_type": "markdown",
   "id": "3da4189b",
   "metadata": {},
   "source": [
    "Za pomocą django orm **instrukcje join** możemy zrealizować na dwa sposoby:\n",
    "- `select_related`\n",
    "- `prefetch_related`"
   ]
  },
  {
   "cell_type": "markdown",
   "id": "0872fce0",
   "metadata": {},
   "source": [
    "To, której metody będziemy chcieli użyć zależy od charaketru relacji wzdłuż, której złączamy tabelki."
   ]
  },
  {
   "cell_type": "markdown",
   "id": "f075c269",
   "metadata": {},
   "source": [
    "## select_related"
   ]
  },
  {
   "cell_type": "markdown",
   "id": "a6887e71",
   "metadata": {},
   "source": [
    "`select_related` wykonuje trdycyjnego joina, bez żadnych dodatkowych usprawnień. Używamy w przypadku relacji o2o oraz o2m. Proba użycia na relacji m2m zakończy się błędem z przyczyn, o których poniżej."
   ]
  },
  {
   "cell_type": "code",
   "execution_count": null,
   "id": "572e1103",
   "metadata": {},
   "outputs": [],
   "source": [
    "frameworks = Framework.objects.select_related()\n",
    "\n",
    "# tym razem na bazie wykona się taka sqlka\n",
    "print(frameworks.query)"
   ]
  },
  {
   "cell_type": "markdown",
   "id": "557fc0ad",
   "metadata": {},
   "source": [
    "Widzimy joina. Django orm wyciągnie z bazy informacje o wpisach powiązanych i powkłada te informacje do odpowiednich obiektów w taki sposób, że odwołując się do języka frameworka, orm nie będzie potrzebował, ponownie uderzyć na bazę."
   ]
  },
  {
   "cell_type": "code",
   "execution_count": null,
   "id": "eb46cced",
   "metadata": {},
   "outputs": [],
   "source": [
    "# tym razem ten kod wykona się bez uderzania na bazę\n",
    "for framework in frameworks:\n",
    "    print(framework.language)"
   ]
  },
  {
   "cell_type": "markdown",
   "id": "2ffe5736",
   "metadata": {},
   "source": [
    "Jeżeli chcemy zrobić joina tylko z wybranymi powiązaniami (a nie ze wszystkimi), dopisujemy nazwy wybranych kluczy obcy jako parametry pozycyjne metody select_related."
   ]
  },
  {
   "cell_type": "code",
   "execution_count": null,
   "id": "2c580bf3",
   "metadata": {},
   "outputs": [],
   "source": [
    "frameworks = Framework.objects.select_related('language')\n",
    "print(qs.query)  \n",
    "# w tym przykładzie nie widzimy różnicy pomiędzy tym zapytaniem, a poprzednim ponieważ tabelka framework ma tylko \n",
    "# jedno powiązanie (z tabelką Language)"
   ]
  },
  {
   "cell_type": "markdown",
   "id": "04989759",
   "metadata": {},
   "source": [
    "Jeżeli chcielibyśmy robić kolejnego joina z wykorzystaniem danych z tabeli zjoinowanej, możemy posłużyć się `field lookupami`. Założmy hipotetycznie, że tabelka language ma jeszcze kolumnę type, która jest kluczem obcym do tabelki Type (niech tabelka Type reprezentuje typ języka programowania, np. statyczny, dynamiczny). Jeżeli chcielibyśmy zjoinować również tą kolejną tabelkę, możemy to zrobić w ten sposób:"
   ]
  },
  {
   "cell_type": "code",
   "execution_count": null,
   "id": "e12d9093",
   "metadata": {},
   "outputs": [],
   "source": [
    "# frameworks = Framework.objects.select_related('language__type')\n",
    "\n",
    "# W ten sposób możemy łańcuchować lookupy joinując dalsze tabelki"
   ]
  },
  {
   "cell_type": "markdown",
   "id": "d31fee3f",
   "metadata": {},
   "source": [
    "W wyniku wykonywania joinów czasami (zwłaszcza w przypadku relacji m2m) możemy wyciągać z bazy dużą ilość danych. Z myślą o takich przypadkach django orm udostępnia drugą metodę na zrealizowanie joina - `prefetch_related`."
   ]
  },
  {
   "cell_type": "markdown",
   "id": "04194224",
   "metadata": {},
   "source": [
    "### prefetch_related"
   ]
  },
  {
   "cell_type": "code",
   "execution_count": null,
   "id": "3a89613d",
   "metadata": {},
   "outputs": [],
   "source": [
    "frameworks = Framework.objects.prefetch_related()\n",
    "\n",
    "print(qs.query)"
   ]
  },
  {
   "cell_type": "markdown",
   "id": "bb526084",
   "metadata": {},
   "source": [
    "Tutaj nie widzimy, żeby django zrobił jakiegoś joina, ale pod spodem django wykonał dwa zapytania na bazę. Jedno to to, którego sql widzimy powyżej. Drugie zapytanie było o wpisy powiązane. A następnie połączył te informacje ze sobą już po stronie pythona. W efekcie zamiast 101 zapytań zrobiliśmy dwa. \n",
    "\n",
    "`prefech_related` używamy kiedy nie chcemy uderzać wiele razy na bazę, a jednocześnie wiemy że w wyniku pojdynczego zapytania dostaniemy ogromną liczbę danych, których przetworzenie może zająć więcej czasu niż przetworzenie tej samej ilości danych, ale w dwóch mniejszych zbiorach."
   ]
  },
  {
   "cell_type": "markdown",
   "id": "5a90620c",
   "metadata": {},
   "source": [
    "Powyższych reguł nie jesteśmy w stanie zaobserwować bez użycia dodatkowych narzędzi. Jednym z najlepszych sposobów na śledzenie jakości zapytań bazodanowych po stronie Django jest użycie Django Debug Toolbar (https://django-debug-toolbar.readthedocs.io/en/latest/installation.html), dodatku do django, który monitoruje wiele parametrów widoku, wśród których znajduje się liczba zapytań sql i czas ich wykonania."
   ]
  }
 ],
 "metadata": {
  "kernelspec": {
   "display_name": "Django Shell-Plus",
   "language": "python",
   "name": "django_extensions"
  },
  "language_info": {
   "codemirror_mode": {
    "name": "ipython",
    "version": 3
   },
   "file_extension": ".py",
   "mimetype": "text/x-python",
   "name": "python",
   "nbconvert_exporter": "python",
   "pygments_lexer": "ipython3",
   "version": "3.11.1"
  }
 },
 "nbformat": 4,
 "nbformat_minor": 5
}
