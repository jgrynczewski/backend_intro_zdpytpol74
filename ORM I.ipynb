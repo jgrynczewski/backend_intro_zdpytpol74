{
 "cells": [
  {
   "cell_type": "markdown",
   "id": "6460ac6c",
   "metadata": {},
   "source": [
    "# Django ORM - Praca z danymi (komendy DML i DQL)"
   ]
  },
  {
   "cell_type": "markdown",
   "id": "b23b23aa",
   "metadata": {},
   "source": [
    "### Co potrzebujemy do uruchomienia tego notebooka?\n",
    "* jupyter\n",
    "* django-extensions\n",
    "\n",
    "<code>$ pip install jupyter django-extensions</code>\n",
    "\n",
    "Więcej informacji znajdziesz [tutaj](https://medium.com/ayuth/how-to-use-django-in-jupyter-notebook-561ea2401852)"
   ]
  },
  {
   "cell_type": "markdown",
   "id": "cadb29ab",
   "metadata": {},
   "source": [
    "## Definicja modelu\n",
    "\n",
    "<code>class Task(models.Model):\n",
    "    name = models.CharField(max_length=64)\n",
    "</code>\n",
    "<code>\n",
    "    def __str__(self):\n",
    "        return f\"{self.name}\"\n",
    "</code>\n",
    "\n",
    "W dalszej części notebooka przyjęto założenie, że powyższy model został stworzony w aplikacji taskapp w pliku models.py oraz, że przygotowowano i zrealizowano migracje dla tego modelu."
   ]
  },
  {
   "cell_type": "code",
   "execution_count": null,
   "id": "5a4fa68f",
   "metadata": {
    "scrolled": true
   },
   "outputs": [],
   "source": [
    "import os\n",
    "import django\n",
    "os.environ.setdefault('DJANGO_SETTINGS_MODULE', 'rest.settings')\n",
    "os.environ[\"DJANGO_ALLOW_ASYNC_UNSAFE\"] = \"true\"\n",
    "django.setup()"
   ]
  },
  {
   "cell_type": "code",
   "execution_count": null,
   "id": "803f6ef9",
   "metadata": {},
   "outputs": [],
   "source": [
    "from form_app5.models import Task"
   ]
  },
  {
   "cell_type": "markdown",
   "id": "d519ed11",
   "metadata": {},
   "source": [
    "## C - CREATE (CRUD) - DML (Data Manipulation Language)"
   ]
  },
  {
   "cell_type": "markdown",
   "id": "2dbc7d4f",
   "metadata": {},
   "source": [
    "### Klauzula INSERT"
   ]
  },
  {
   "cell_type": "code",
   "execution_count": null,
   "id": "61c3e6d9",
   "metadata": {},
   "outputs": [],
   "source": [
    "# Metoda I - metoda create menadżera modelu (objects)\n",
    "\n",
    "res = Task.objects.create(name=\"Smażenie\")"
   ]
  },
  {
   "cell_type": "code",
   "execution_count": null,
   "id": "1b0b5824",
   "metadata": {},
   "outputs": [],
   "source": [
    "# Metoda II - metoda save instancji modelu\n",
    "\n",
    "task = Task()\n",
    "task.name = \"Pieczenie\"\n",
    "task.save()"
   ]
  },
  {
   "cell_type": "code",
   "execution_count": null,
   "id": "0980dd5b",
   "metadata": {},
   "outputs": [],
   "source": [
    "# W drugiej metodzie wartości parametrów można oczywiście przekazać w inicjalizatorze.\n",
    "\n",
    "task = Task(name=\"Gotowanie\")\n",
    "task.save()"
   ]
  },
  {
   "cell_type": "code",
   "execution_count": null,
   "id": "15259608",
   "metadata": {},
   "outputs": [],
   "source": [
    "# Przed przejściem do litery R dodajmy jeszcze kilka wpisów do tabeli, żeby mieć \n",
    "# co analizować podczas poznawania metod implementujących instrukcje z rodziny READ.\n",
    "\n",
    "Task.objects.create(name=\"Szukanie\")\n",
    "Task.objects.create(name=\"Szukanie\")\n",
    "Task.objects.create(name=\"Programowanie\")\n",
    "Task.objects.create(name=\"Pływanie\")\n",
    "Task.objects.create(name=\"Pranie\")\n",
    "Task.objects.create(name=\"Dodawanie\")"
   ]
  },
  {
   "cell_type": "markdown",
   "id": "29e837e1",
   "metadata": {},
   "source": [
    "## R - Read (CRUD) - DQL (Data Query Language)"
   ]
  },
  {
   "cell_type": "markdown",
   "id": "c791c5ee",
   "metadata": {},
   "source": [
    "### Klauzula SELECT"
   ]
  },
  {
   "cell_type": "markdown",
   "id": "b0d19478",
   "metadata": {},
   "source": [
    "Operacja READ w SQL to instrukcja SELECT z całą swoją rozbudowaną składnią i operatorami takimi jak: LIKE, GROUP_BY, ORDER_BY, HAVING, IN, JOIN, UNION, ...\n",
    "Menadżer modelu (**.objects**) posiada odpowiednie metody implementujące część tych instrukcji."
   ]
  },
  {
   "cell_type": "code",
   "execution_count": null,
   "id": "f5fb4b30",
   "metadata": {
    "scrolled": true
   },
   "outputs": [],
   "source": [
    "print(dir(Task.objects))"
   ]
  },
  {
   "cell_type": "markdown",
   "id": "a19b991a",
   "metadata": {},
   "source": [
    "Metoda all menadżera modelu odpowiada instrukcji SELECT *"
   ]
  },
  {
   "cell_type": "code",
   "execution_count": null,
   "id": "4c13f687",
   "metadata": {},
   "outputs": [],
   "source": [
    "tasks = Task.objects.all()\n",
    "\n",
    "print(tasks)"
   ]
  },
  {
   "cell_type": "markdown",
   "id": "bf03e3c8",
   "metadata": {},
   "source": [
    "Metoda all zwraca obiekt klasy QuerySet. Jest to klasa reprezentująca zapytanie do bazy. Obiekt ten istnieje przed wykonaniem zapytania, a po wykonaniu zapytania jest uzupełniana o odpowiedź z bazy. Wśród swoich pól klasa QuerySet posiada atrybut query przechowujący zapytanie sql, które zostanie (lub już zostało) wykonane na bazie."
   ]
  },
  {
   "cell_type": "code",
   "execution_count": null,
   "id": "aff29b34",
   "metadata": {},
   "outputs": [],
   "source": [
    "print(tasks.query)"
   ]
  },
  {
   "cell_type": "markdown",
   "id": "89b90732",
   "metadata": {},
   "source": [
    "Wśród wielu metod udostępnianych przez QuerySet można znaleźć takie, które widzieliśmy już wśród metod udostępnianych przez menadżera modelu, np. all, filter, exclude, union, get, first, last, ..."
   ]
  },
  {
   "cell_type": "code",
   "execution_count": null,
   "id": "e9b2a8a0",
   "metadata": {},
   "outputs": [],
   "source": [
    "print(dir(tasks))"
   ]
  },
  {
   "cell_type": "markdown",
   "id": "668da6c7",
   "metadata": {},
   "source": [
    "Wynika to z faktu, że każdy menadżer modelu posiada swój własny, początkowy QuerySet. Kiedy wywołujemy na menadżerze modelu metodę, która znajduje się w interfejsie klasy QuerySet (np. all), to menadżer modelu po prostu wywołuje tą metodę na swoim własnym QuerySet-cie (oddelegowuje wykonanie metody do swojego QuerySet-a)."
   ]
  },
  {
   "cell_type": "markdown",
   "id": "0cb0c9f1",
   "metadata": {},
   "source": [
    "Czyli metoda all działa na obiekcie QuerySet (początkowym QuerySet-cie menadżera modelu) i zwraca obiekt klasy QuerySet. Skoro to co zwraca metoda all to obiekt klasy QuerySet, to ten obiekt posiada takie metody jak all, filter, ... Wynika z tego, że metodę all możemy łańcuchować, tzn. wywoływać jedną po drugiej."
   ]
  },
  {
   "cell_type": "code",
   "execution_count": null,
   "id": "3247a10e",
   "metadata": {},
   "outputs": [],
   "source": [
    "tasks = Task.objects.all().all().all()\n",
    "print(tasks)"
   ]
  },
  {
   "cell_type": "markdown",
   "id": "4e3217dd",
   "metadata": {},
   "source": [
    "QuerySet posiada więcej metod, które w wyniku działania zwracają obiekty klasy QuerySet (np. filter, exclude, order_by, ...) i o ile łańcuchownie samej metody all nie ma za bardzo sensu, tak załańcuchowanie np. metody order_by po wywołaniu metody all w celu posortowania wpisów już ma."
   ]
  },
  {
   "cell_type": "code",
   "execution_count": null,
   "id": "b2f44a71",
   "metadata": {},
   "outputs": [],
   "source": [
    "tasks = Task.objects.all().order_by('name')\n",
    "print(tasks.query)"
   ]
  },
  {
   "cell_type": "markdown",
   "id": "e1ca7fb1",
   "metadata": {},
   "source": [
    "Struktura umożliwiająca łańcuchowanie metod na tyle często pojawia się w programowaniu, że posiada nawet swoją nazwę. Mówimy, że QuerySet implementuje wzorzec fluent interface (płynny interfejs)."
   ]
  },
  {
   "cell_type": "markdown",
   "id": "db0157a1",
   "metadata": {},
   "source": [
    "Ale nie wszystkie metody QuerySet (i menadżera modelu) zwracają QuerySet. Na przykład metody first i last zwracają odpowiednio pierwszy i ostatni element QuerySeta (czyli instancje modelu). Takie metody nie zwracają obiektu klasy QuerySet (nie implementują wzorca fluent interface) i dlatego po ich użyciu nie można już użyć żadnej innej metody obiektu QuerySet do łańcuchowania."
   ]
  },
  {
   "cell_type": "code",
   "execution_count": null,
   "id": "9da8915a",
   "metadata": {},
   "outputs": [],
   "source": [
    "task = Task.objects.first()\n",
    "print(task)\n",
    "print(type(task))"
   ]
  },
  {
   "cell_type": "code",
   "execution_count": null,
   "id": "0ce447d4",
   "metadata": {},
   "outputs": [],
   "source": [
    "task = Task.objects.last()\n",
    "print(task)"
   ]
  },
  {
   "cell_type": "markdown",
   "id": "c8c15e6b",
   "metadata": {},
   "source": [
    "### Dostęp do wartości w poszczególnych kolumnach wpisu"
   ]
  },
  {
   "cell_type": "markdown",
   "id": "496ae855",
   "metadata": {},
   "source": [
    "Do wartości w poszczególnych kolumnach wpisu dostajemy się poprzez notacją obiektową (odwołujemy się do atrybutu instancji modelu). Jaką wartość w kolumnie name ma ostatni wpis z tabelki Task?"
   ]
  },
  {
   "cell_type": "code",
   "execution_count": null,
   "id": "d70fff35",
   "metadata": {},
   "outputs": [],
   "source": [
    "print(task.name)"
   ]
  },
  {
   "cell_type": "markdown",
   "id": "40a44e2b",
   "metadata": {},
   "source": [
    "### Filtry - metody filter i get (klauzula WHERE)"
   ]
  },
  {
   "cell_type": "markdown",
   "id": "ecec27ac",
   "metadata": {},
   "source": [
    "#### Metoda I - filter"
   ]
  },
  {
   "cell_type": "markdown",
   "id": "98713263",
   "metadata": {},
   "source": [
    "Metoda filter menadżera modelu (i Queryset-a) odpowiada klauzuli WHERE."
   ]
  },
  {
   "cell_type": "code",
   "execution_count": null,
   "id": "e0359686",
   "metadata": {},
   "outputs": [],
   "source": [
    "task = Task.objects.filter(name=\"Szukanie\")\n",
    "print(task)"
   ]
  },
  {
   "cell_type": "markdown",
   "id": "b14a46de",
   "metadata": {},
   "source": [
    "Widzimy, że metoda filter zwraca obiekt QuerySet. QuerySet może być pusty."
   ]
  },
  {
   "cell_type": "code",
   "execution_count": null,
   "id": "aa33723e",
   "metadata": {},
   "outputs": [],
   "source": [
    "task = Task.objects.filter(name=\"Coś czego nie ma w tabeli\")\n",
    "print(task)"
   ]
  },
  {
   "cell_type": "markdown",
   "id": "6537802e",
   "metadata": {},
   "source": [
    "QuerySet może być jednoelementowy."
   ]
  },
  {
   "cell_type": "code",
   "execution_count": null,
   "id": "3b6d9b1e",
   "metadata": {},
   "outputs": [],
   "source": [
    "task = Task.objects.filter(name=\"Programowanie\")\n",
    "print(task)"
   ]
  },
  {
   "cell_type": "markdown",
   "id": "1e992261",
   "metadata": {},
   "source": [
    "#### Metoda II - get"
   ]
  },
  {
   "cell_type": "markdown",
   "id": "c9fccdf5",
   "metadata": {},
   "source": [
    "W odróżnieniu od metody filter, metoda get zwraca instancję modelu (a nie obiekt klasy QuerySet)."
   ]
  },
  {
   "cell_type": "code",
   "execution_count": null,
   "id": "46aa42ee",
   "metadata": {},
   "outputs": [],
   "source": [
    "task = Task.objects.get(name=\"Programowanie\")\n",
    "print(task)\n",
    "print(type(task))"
   ]
  },
  {
   "cell_type": "markdown",
   "id": "6b4c7114",
   "metadata": {},
   "source": [
    "Metoda get oczekuje, że w wyniku otrzyma **jeden i tylko jeden** wpis."
   ]
  },
  {
   "cell_type": "markdown",
   "id": "7e5f675d",
   "metadata": {},
   "source": [
    "Jeżeli zapytanie nie zwróci żadnego wpisu metoda get rzuci wyjątek *DoesNotExist*."
   ]
  },
  {
   "cell_type": "code",
   "execution_count": null,
   "id": "7272ef03",
   "metadata": {},
   "outputs": [],
   "source": [
    "task = Task.objects.get(name=\"Coś czego nie ma w tabeli\")"
   ]
  },
  {
   "cell_type": "markdown",
   "id": "9c4ffe91",
   "metadata": {},
   "source": [
    "Jeżeli zapytanie zwróci więcej niż jeden wpis metoda get rzuci wyjątek *MultipleObjectsReturned*."
   ]
  },
  {
   "cell_type": "code",
   "execution_count": null,
   "id": "f5146137",
   "metadata": {},
   "outputs": [],
   "source": [
    "Task.objects.get(name=\"Szukanie\")"
   ]
  },
  {
   "cell_type": "markdown",
   "id": "6efd3315",
   "metadata": {},
   "source": [
    "Podsumowując, metoda get w odróżnieniu od metody filter:\n",
    "* zwraca instancję modelu (a nie obiekty klasy QuerySet)\n",
    "* jeżeli w wyniku filtrowania otrzymamy pustą odpowiedź rzuci wyjątek *DoesNotExist* (a nie zwróci pusty QuerySet)\n",
    "* jeżeli w wyniku filtrowania otrzymamy więcej niż jeden wpis rzuci wyjątek *MultipleObjectsReturned* (a nie zwróci wieloelementowy QuerySet)"
   ]
  },
  {
   "cell_type": "markdown",
   "id": "e38c5c30",
   "metadata": {},
   "source": [
    "#### Field lookups (operatory klauzuli WHERE)"
   ]
  },
  {
   "cell_type": "markdown",
   "id": "4a338572",
   "metadata": {},
   "source": [
    "Klauzula WHERE posiada wiele operatorów takich jak: LIKE, IN, >, <, ... We frameworku Django implementujemy te operatory za pomocą tak zwanych field lookups. Składniowo używanie lookupów polega na dodaniu po nazwie kolumny w filtrze dwóch znaków __ a następnie odpowiedniego słówka, np. contains, startswith, lte (less than or equal), gt (greater than) ..."
   ]
  },
  {
   "cell_type": "markdown",
   "id": "aa11c81a",
   "metadata": {},
   "source": [
    "Znajdźmy wszystkie wpisy z tabeli Task, dla których wartość w kolumnie name rozpoczyna się na Pr."
   ]
  },
  {
   "cell_type": "code",
   "execution_count": null,
   "id": "3f89740b",
   "metadata": {},
   "outputs": [],
   "source": [
    "tasks = Task.objects.filter(name__startswith=\"Pr\")\n",
    "print(tasks)"
   ]
  },
  {
   "cell_type": "markdown",
   "id": "e243d46a",
   "metadata": {},
   "source": [
    "Popatrzmy na sql"
   ]
  },
  {
   "cell_type": "code",
   "execution_count": null,
   "id": "a49c4d65",
   "metadata": {},
   "outputs": [],
   "source": [
    "print(tasks.query)"
   ]
  },
  {
   "cell_type": "markdown",
   "id": "728b8a45",
   "metadata": {},
   "source": [
    "Znajdźmy wszystkie wpisy z tabli Task, dla których wartość w kolumnie id jest większa bądź równa 5."
   ]
  },
  {
   "cell_type": "code",
   "execution_count": null,
   "id": "38131f77",
   "metadata": {},
   "outputs": [],
   "source": [
    "tasks = Task.objects.filter(id__gte=5)\n",
    "print(tasks)"
   ]
  },
  {
   "cell_type": "code",
   "execution_count": null,
   "id": "6497aaea",
   "metadata": {},
   "outputs": [],
   "source": [
    "# sql?\n",
    "print(tasks.query)"
   ]
  },
  {
   "cell_type": "markdown",
   "id": "e80bd8a8",
   "metadata": {},
   "source": [
    "Znajdźmy wszystkie wpisy z tabeli Task, dla których wartość w kolumnie name zawiera ow."
   ]
  },
  {
   "cell_type": "code",
   "execution_count": null,
   "id": "1d83c2d9",
   "metadata": {},
   "outputs": [],
   "source": [
    "tasks = Task.objects.filter(name__contains=\"ow\")\n",
    "print(tasks)"
   ]
  },
  {
   "cell_type": "markdown",
   "id": "6a10d456",
   "metadata": {},
   "source": [
    "### Indeksowanie, wycinki (operatory LIMIT i OFFSET)"
   ]
  },
  {
   "cell_type": "markdown",
   "id": "6176728b",
   "metadata": {},
   "source": [
    "Klasa QuerySet wspiera indeksowanie oraz wycinki"
   ]
  },
  {
   "cell_type": "markdown",
   "id": "64a632de",
   "metadata": {},
   "source": [
    "Znajdźmy czwarty wpis w tabeli Task (indeksowanie od 0)."
   ]
  },
  {
   "cell_type": "code",
   "execution_count": null,
   "id": "17162360",
   "metadata": {},
   "outputs": [],
   "source": [
    "task = Task.objects.all()[3]\n",
    "print(task)\n",
    "print(type(task))  # instancja modelu"
   ]
  },
  {
   "cell_type": "markdown",
   "id": "8b79695e",
   "metadata": {},
   "source": [
    "Znajdźmy pięc pierwszych wpisów w tabeli Task."
   ]
  },
  {
   "cell_type": "code",
   "execution_count": null,
   "id": "ffdbcb8b",
   "metadata": {},
   "outputs": [],
   "source": [
    "tasks = Task.objects.all()[:5]\n",
    "print(tasks)"
   ]
  },
  {
   "cell_type": "code",
   "execution_count": null,
   "id": "1cc14f3e",
   "metadata": {},
   "outputs": [],
   "source": [
    "# sql?\n",
    "print(tasks.query)"
   ]
  },
  {
   "cell_type": "markdown",
   "id": "7c820ab7",
   "metadata": {},
   "source": [
    "Znajdźmy wszystkie wpisy w tabeli Task poza pięcioma pierwszymi."
   ]
  },
  {
   "cell_type": "code",
   "execution_count": null,
   "id": "083c2f61",
   "metadata": {},
   "outputs": [],
   "source": [
    "tasks = Task.objects.all()[5:]\n",
    "print(tasks)"
   ]
  },
  {
   "cell_type": "code",
   "execution_count": null,
   "id": "71bcbcb1",
   "metadata": {},
   "outputs": [],
   "source": [
    "# sql?\n",
    "print(tasks.query)"
   ]
  },
  {
   "cell_type": "markdown",
   "id": "afd9b43a",
   "metadata": {},
   "source": [
    "Znajdźmy co drugi wpis z tabeli Task (wycinki)"
   ]
  },
  {
   "cell_type": "code",
   "execution_count": null,
   "id": "49f7c901",
   "metadata": {},
   "outputs": [],
   "source": [
    "tasks = Task.objects.all()[::2]\n",
    "print(tasks)\n",
    "print(type(tasks))"
   ]
  },
  {
   "cell_type": "markdown",
   "id": "6544a394",
   "metadata": {},
   "source": [
    "**Uwaga!**\n",
    "\n",
    "W ostatnim przykładzie wycinek zwraca **listę instancji modelu**, a nie QuerySet."
   ]
  },
  {
   "cell_type": "markdown",
   "id": "eecea0f9",
   "metadata": {},
   "source": [
    "**Uwaga!** \n",
    "\n",
    "QuerySet w odróżnieniu od listy Pythonowej nie obsługuje negatywnych indeksów."
   ]
  }
 ],
 "metadata": {
  "kernelspec": {
   "display_name": "Python 3 (ipykernel)",
   "language": "python",
   "name": "python3"
  },
  "language_info": {
   "codemirror_mode": {
    "name": "ipython",
    "version": 3
   },
   "file_extension": ".py",
   "mimetype": "text/x-python",
   "name": "python",
   "nbconvert_exporter": "python",
   "pygments_lexer": "ipython3",
   "version": "3.11.1"
  }
 },
 "nbformat": 4,
 "nbformat_minor": 5
}
