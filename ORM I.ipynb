{
 "cells": [
  {
   "cell_type": "markdown",
   "id": "6460ac6c",
   "metadata": {},
   "source": [
    "# Django ORM - Praca z danymi (komendy DML i DQL)"
   ]
  },
  {
   "cell_type": "markdown",
   "id": "b23b23aa",
   "metadata": {},
   "source": [
    "### Co potrzebujemy do uruchomienia tego notebooka?\n",
    "* jupyter\n",
    "* django-extensions\n",
    "\n",
    "<code>$ pip install jupyter django-extensions</code>\n",
    "\n",
    "Więcej informacji znajdziesz [tutaj](https://medium.com/ayuth/how-to-use-django-in-jupyter-notebook-561ea2401852)"
   ]
  },
  {
   "cell_type": "markdown",
   "id": "cadb29ab",
   "metadata": {},
   "source": [
    "## Definicja modelu\n",
    "\n",
    "<code>class Task(models.Model):\n",
    "    name = models.CharField(max_length=64)\n",
    "</code>\n",
    "<code>\n",
    "    def __str__(self):\n",
    "        return f\"{self.name}\"\n",
    "</code>\n",
    "\n",
    "W dalszej części notebooka przyjęto założenie, że powyższy model został stworzony w aplikacji taskapp w pliku models.py oraz, że przygotowowano i zrealizowano migracje dla tego modelu."
   ]
  },
  {
   "cell_type": "code",
   "execution_count": 1,
   "id": "5a4fa68f",
   "metadata": {
    "scrolled": true
   },
   "outputs": [],
   "source": [
    "import os\n",
    "import django\n",
    "os.environ.setdefault('DJANGO_SETTINGS_MODULE', 'intro.settings')\n",
    "os.environ[\"DJANGO_ALLOW_ASYNC_UNSAFE\"] = \"true\"\n",
    "django.setup()"
   ]
  },
  {
   "cell_type": "code",
   "execution_count": 2,
   "id": "803f6ef9",
   "metadata": {},
   "outputs": [],
   "source": [
    "from form_app5.models import Task"
   ]
  },
  {
   "cell_type": "markdown",
   "id": "d519ed11",
   "metadata": {},
   "source": [
    "## C - CREATE (CRUD) - DML (Data Manipulation Language)"
   ]
  },
  {
   "cell_type": "markdown",
   "id": "2dbc7d4f",
   "metadata": {},
   "source": [
    "### Klauzula INSERT"
   ]
  },
  {
   "cell_type": "code",
   "execution_count": 7,
   "id": "61c3e6d9",
   "metadata": {},
   "outputs": [],
   "source": [
    "# Metoda I - metoda create menadżera modelu (objects)\n",
    "\n",
    "res = Task.objects.create(name=\"Smażenie\")"
   ]
  },
  {
   "cell_type": "code",
   "execution_count": 8,
   "id": "1b0b5824",
   "metadata": {},
   "outputs": [],
   "source": [
    "# Metoda II - metoda save instancji modelu\n",
    "\n",
    "task = Task()\n",
    "task.name = \"Pieczenie\"\n",
    "task.save()"
   ]
  },
  {
   "cell_type": "code",
   "execution_count": 9,
   "id": "0980dd5b",
   "metadata": {},
   "outputs": [],
   "source": [
    "# W drugiej metodzie wartości parametrów można oczywiście przekazać w inicjalizatorze.\n",
    "\n",
    "task = Task(name=\"Gotowanie\")\n",
    "task.save()"
   ]
  },
  {
   "cell_type": "code",
   "execution_count": 10,
   "id": "15259608",
   "metadata": {},
   "outputs": [
    {
     "data": {
      "text/plain": [
       "<Task: Task object (9)>"
      ]
     },
     "execution_count": 10,
     "metadata": {},
     "output_type": "execute_result"
    }
   ],
   "source": [
    "# Przed przejściem do litery R dodajmy jeszcze kilka wpisów do tabeli, żeby mieć \n",
    "# co analizować podczas poznawania metod implementujących instrukcje z rodziny READ.\n",
    "\n",
    "Task.objects.create(name=\"Szukanie\")\n",
    "Task.objects.create(name=\"Szukanie\")\n",
    "Task.objects.create(name=\"Programowanie\")\n",
    "Task.objects.create(name=\"Pływanie\")\n",
    "Task.objects.create(name=\"Pranie\")\n",
    "Task.objects.create(name=\"Dodawanie\")"
   ]
  },
  {
   "cell_type": "markdown",
   "id": "29e837e1",
   "metadata": {},
   "source": [
    "## R - Read (CRUD) - DQL (Data Query Language)"
   ]
  },
  {
   "cell_type": "markdown",
   "id": "c791c5ee",
   "metadata": {},
   "source": [
    "### Klauzula SELECT"
   ]
  },
  {
   "cell_type": "markdown",
   "id": "b0d19478",
   "metadata": {},
   "source": [
    "Operacja READ w SQL to instrukcja SELECT z całą swoją rozbudowaną składnią i operatorami takimi jak: LIKE, GROUP_BY, ORDER_BY, HAVING, IN, JOIN, UNION, ...\n",
    "Menadżer modelu (**.objects**) posiada odpowiednie metody implementujące część tych instrukcji."
   ]
  },
  {
   "cell_type": "code",
   "execution_count": 11,
   "id": "f5fb4b30",
   "metadata": {
    "scrolled": true
   },
   "outputs": [
    {
     "name": "stdout",
     "output_type": "stream",
     "text": [
      "['__class__', '__class_getitem__', '__delattr__', '__dict__', '__dir__', '__doc__', '__eq__', '__format__', '__ge__', '__getattribute__', '__getstate__', '__gt__', '__hash__', '__init__', '__init_subclass__', '__le__', '__lt__', '__module__', '__ne__', '__new__', '__reduce__', '__reduce_ex__', '__repr__', '__setattr__', '__sizeof__', '__slotnames__', '__str__', '__subclasshook__', '__weakref__', '_constructor_args', '_db', '_get_queryset_methods', '_hints', '_insert', '_queryset_class', '_set_creation_counter', '_update', 'aaggregate', 'abulk_create', 'abulk_update', 'acontains', 'acount', 'acreate', 'aearliest', 'aexists', 'aexplain', 'afirst', 'aget', 'aget_or_create', 'aggregate', 'ain_bulk', 'aiterator', 'alast', 'alatest', 'alias', 'all', 'annotate', 'aupdate', 'aupdate_or_create', 'auto_created', 'bulk_create', 'bulk_update', 'check', 'complex_filter', 'contains', 'contribute_to_class', 'count', 'create', 'creation_counter', 'dates', 'datetimes', 'db', 'db_manager', 'deconstruct', 'defer', 'difference', 'distinct', 'earliest', 'exclude', 'exists', 'explain', 'extra', 'filter', 'first', 'from_queryset', 'get', 'get_or_create', 'get_queryset', 'in_bulk', 'intersection', 'iterator', 'last', 'latest', 'model', 'name', 'none', 'only', 'order_by', 'prefetch_related', 'raw', 'reverse', 'select_for_update', 'select_related', 'union', 'update', 'update_or_create', 'use_in_migrations', 'using', 'values', 'values_list']\n"
     ]
    }
   ],
   "source": [
    "print(dir(Task.objects))"
   ]
  },
  {
   "cell_type": "markdown",
   "id": "a19b991a",
   "metadata": {},
   "source": [
    "Metoda all menadżera modelu odpowiada instrukcji SELECT *"
   ]
  },
  {
   "cell_type": "code",
   "execution_count": 3,
   "id": "4c13f687",
   "metadata": {},
   "outputs": [
    {
     "name": "stdout",
     "output_type": "stream",
     "text": [
      "<QuerySet [<Task: Task: [1] Smażenie>, <Task: Task: [2] Pieczenie>, <Task: Task: [3] Gotowanie>, <Task: Task: [4] Szukanie>, <Task: Task: [5] Szukanie>, <Task: Task: [6] Programowanie>, <Task: Task: [7] Pływanie>, <Task: Task: [8] Pranie>, <Task: Task: [9] Dodawanie>]>\n"
     ]
    }
   ],
   "source": [
    "tasks = Task.objects.all()\n",
    "\n",
    "print(tasks)"
   ]
  },
  {
   "cell_type": "markdown",
   "id": "bf03e3c8",
   "metadata": {},
   "source": [
    "Metoda all zwraca obiekt klasy QuerySet. Jest to klasa reprezentująca zapytanie do bazy. Obiekt ten istnieje przed wykonaniem zapytania, a po wykonaniu zapytania jest uzupełniana o odpowiedź z bazy. Wśród swoich pól klasa QuerySet posiada atrybut query przechowujący zapytanie sql, które zostanie (lub już zostało) wykonane na bazie."
   ]
  },
  {
   "cell_type": "code",
   "execution_count": 4,
   "id": "aff29b34",
   "metadata": {},
   "outputs": [
    {
     "name": "stdout",
     "output_type": "stream",
     "text": [
      "SELECT \"form_app5_task\".\"id\", \"form_app5_task\".\"name\" FROM \"form_app5_task\"\n"
     ]
    }
   ],
   "source": [
    "print(tasks.query)"
   ]
  },
  {
   "cell_type": "markdown",
   "id": "89b90732",
   "metadata": {},
   "source": [
    "Wśród wielu metod udostępnianych przez QuerySet można znaleźć takie, które widzieliśmy już wśród metod udostępnianych przez menadżera modelu, np. all, filter, exclude, union, get, first, last, ..."
   ]
  },
  {
   "cell_type": "code",
   "execution_count": 5,
   "id": "df5843a8-0c16-4364-b20f-1fd96aac42cb",
   "metadata": {},
   "outputs": [
    {
     "name": "stdout",
     "output_type": "stream",
     "text": [
      "<class 'django.db.models.query.QuerySet'>\n"
     ]
    }
   ],
   "source": [
    "print(type(tasks))"
   ]
  },
  {
   "cell_type": "code",
   "execution_count": 6,
   "id": "e9b2a8a0",
   "metadata": {},
   "outputs": [
    {
     "name": "stdout",
     "output_type": "stream",
     "text": [
      "['__aiter__', '__and__', '__bool__', '__class__', '__class_getitem__', '__deepcopy__', '__delattr__', '__dict__', '__dir__', '__doc__', '__eq__', '__format__', '__ge__', '__getattribute__', '__getitem__', '__getstate__', '__gt__', '__hash__', '__init__', '__init_subclass__', '__iter__', '__le__', '__len__', '__lt__', '__module__', '__ne__', '__new__', '__or__', '__reduce__', '__reduce_ex__', '__repr__', '__setattr__', '__setstate__', '__sizeof__', '__str__', '__subclasshook__', '__weakref__', '__xor__', '_add_hints', '_annotate', '_batched_insert', '_chain', '_check_bulk_create_options', '_check_operator_queryset', '_check_ordering_first_last_queryset_aggregation', '_clone', '_combinator_query', '_db', '_defer_next_filter', '_deferred_filter', '_earliest', '_extract_model_params', '_fetch_all', '_fields', '_filter_or_exclude', '_filter_or_exclude_inplace', '_for_write', '_has_filters', '_hints', '_insert', '_iterable_class', '_iterator', '_known_related_objects', '_merge_known_related_objects', '_merge_sanity_check', '_next_is_sticky', '_not_support_combined_queries', '_prefetch_done', '_prefetch_related_lookups', '_prefetch_related_objects', '_prepare_for_bulk_create', '_query', '_raw_delete', '_result_cache', '_sticky_filter', '_update', '_validate_values_are_expressions', '_values', 'aaggregate', 'abulk_create', 'abulk_update', 'acontains', 'acount', 'acreate', 'adelete', 'aearliest', 'aexists', 'aexplain', 'afirst', 'aget', 'aget_or_create', 'aggregate', 'ain_bulk', 'aiterator', 'alast', 'alatest', 'alias', 'all', 'annotate', 'as_manager', 'aupdate', 'aupdate_or_create', 'bulk_create', 'bulk_update', 'complex_filter', 'contains', 'count', 'create', 'dates', 'datetimes', 'db', 'defer', 'delete', 'difference', 'distinct', 'earliest', 'exclude', 'exists', 'explain', 'extra', 'filter', 'first', 'get', 'get_or_create', 'in_bulk', 'intersection', 'iterator', 'last', 'latest', 'model', 'none', 'only', 'order_by', 'ordered', 'prefetch_related', 'query', 'raw', 'resolve_expression', 'reverse', 'select_for_update', 'select_related', 'union', 'update', 'update_or_create', 'using', 'values', 'values_list']\n"
     ]
    }
   ],
   "source": [
    "print(dir(tasks))"
   ]
  },
  {
   "cell_type": "markdown",
   "id": "668da6c7",
   "metadata": {},
   "source": [
    "Wynika to z faktu, że każdy menadżer modelu posiada swój własny, początkowy QuerySet. Kiedy wywołujemy na menadżerze modelu metodę, która znajduje się w interfejsie klasy QuerySet (np. all), to menadżer modelu po prostu wywołuje tą metodę na swoim własnym QuerySet-cie (oddelegowuje wykonanie metody do swojego QuerySet-a)."
   ]
  },
  {
   "cell_type": "markdown",
   "id": "0cb0c9f1",
   "metadata": {},
   "source": [
    "Czyli metoda all działa na obiekcie QuerySet (początkowym QuerySet-cie menadżera modelu) i zwraca obiekt klasy QuerySet. Skoro to co zwraca metoda all to obiekt klasy QuerySet, to ten obiekt posiada takie metody jak all, filter, ... Wynika z tego, że metodę all możemy łańcuchować, tzn. wywoływać jedną po drugiej."
   ]
  },
  {
   "cell_type": "code",
   "execution_count": null,
   "id": "3247a10e",
   "metadata": {},
   "outputs": [],
   "source": [
    "tasks = Task.objects.all().all().all()\n",
    "print(tasks)"
   ]
  },
  {
   "cell_type": "markdown",
   "id": "4e3217dd",
   "metadata": {},
   "source": [
    "QuerySet posiada więcej metod, które w wyniku działania zwracają obiekty klasy QuerySet (np. filter, exclude, order_by, ...) i o ile łańcuchownie samej metody all nie ma za bardzo sensu, tak załańcuchowanie np. metody order_by po wywołaniu metody all w celu posortowania wpisów już ma."
   ]
  },
  {
   "cell_type": "code",
   "execution_count": 7,
   "id": "b2f44a71",
   "metadata": {},
   "outputs": [
    {
     "name": "stdout",
     "output_type": "stream",
     "text": [
      "SELECT \"form_app5_task\".\"id\", \"form_app5_task\".\"name\" FROM \"form_app5_task\" ORDER BY \"form_app5_task\".\"name\" ASC\n"
     ]
    }
   ],
   "source": [
    "tasks = Task.objects.all().order_by('name')\n",
    "print(tasks.query)\n",
    "tasks.first()"
   ]
  },
  {
   "cell_type": "code",
   "execution_count": 8,
   "id": "2bb92a30-b4b9-4775-b2a3-097605c9b844",
   "metadata": {},
   "outputs": [
    {
     "name": "stdout",
     "output_type": "stream",
     "text": [
      "<QuerySet [<Task: Task: [9] Dodawanie>, <Task: Task: [3] Gotowanie>, <Task: Task: [2] Pieczenie>, <Task: Task: [8] Pranie>, <Task: Task: [6] Programowanie>, <Task: Task: [7] Pływanie>, <Task: Task: [1] Smażenie>, <Task: Task: [4] Szukanie>, <Task: Task: [5] Szukanie>]>\n"
     ]
    }
   ],
   "source": [
    "print(tasks)"
   ]
  },
  {
   "cell_type": "markdown",
   "id": "e1ca7fb1",
   "metadata": {},
   "source": [
    "Struktura umożliwiająca łańcuchowanie metod na tyle często pojawia się w programowaniu, że posiada nawet swoją nazwę. Mówimy, że QuerySet implementuje wzorzec fluent interface (płynny interfejs)."
   ]
  },
  {
   "cell_type": "markdown",
   "id": "db0157a1",
   "metadata": {},
   "source": [
    "Ale nie wszystkie metody QuerySet (i menadżera modelu) zwracają QuerySet. Na przykład metody first i last zwracają odpowiednio pierwszy i ostatni element QuerySeta (czyli instancje modelu). Takie metody nie zwracają obiektu klasy QuerySet (nie implementują wzorca fluent interface) i dlatego po ich użyciu nie można już użyć żadnej innej metody obiektu QuerySet do łańcuchowania."
   ]
  },
  {
   "cell_type": "code",
   "execution_count": 9,
   "id": "9da8915a",
   "metadata": {},
   "outputs": [
    {
     "name": "stdout",
     "output_type": "stream",
     "text": [
      "Task: [1] Smażenie\n",
      "<class 'form_app5.models.Task'>\n"
     ]
    }
   ],
   "source": [
    "task = Task.objects.first()\n",
    "print(task)\n",
    "print(type(task))"
   ]
  },
  {
   "cell_type": "code",
   "execution_count": 10,
   "id": "0ce447d4",
   "metadata": {},
   "outputs": [
    {
     "name": "stdout",
     "output_type": "stream",
     "text": [
      "Task: [9] Dodawanie\n"
     ]
    }
   ],
   "source": [
    "task = Task.objects.last()\n",
    "print(task)"
   ]
  },
  {
   "cell_type": "markdown",
   "id": "c8c15e6b",
   "metadata": {},
   "source": [
    "### Dostęp do wartości w poszczególnych kolumnach wpisu"
   ]
  },
  {
   "cell_type": "markdown",
   "id": "496ae855",
   "metadata": {},
   "source": [
    "Do wartości w poszczególnych kolumnach wpisu dostajemy się poprzez notacją obiektową (odwołujemy się do atrybutu instancji modelu). Jaką wartość w kolumnie name ma ostatni wpis z tabelki Task?"
   ]
  },
  {
   "cell_type": "code",
   "execution_count": 13,
   "id": "d70fff35",
   "metadata": {},
   "outputs": [
    {
     "name": "stdout",
     "output_type": "stream",
     "text": [
      "Dodawanie\n"
     ]
    }
   ],
   "source": [
    "print(task.name)"
   ]
  },
  {
   "cell_type": "markdown",
   "id": "40a44e2b",
   "metadata": {},
   "source": [
    "### Filtry - metody filter i get (klauzula WHERE)"
   ]
  },
  {
   "cell_type": "markdown",
   "id": "ecec27ac",
   "metadata": {},
   "source": [
    "#### Metoda I - filter"
   ]
  },
  {
   "cell_type": "markdown",
   "id": "98713263",
   "metadata": {},
   "source": [
    "Metoda filter menadżera modelu (i Queryset-a) odpowiada klauzuli WHERE."
   ]
  },
  {
   "cell_type": "code",
   "execution_count": 14,
   "id": "e0359686",
   "metadata": {},
   "outputs": [
    {
     "name": "stdout",
     "output_type": "stream",
     "text": [
      "<QuerySet [<Task: Task: [4] Szukanie>, <Task: Task: [5] Szukanie>]>\n"
     ]
    }
   ],
   "source": [
    "task = Task.objects.filter(name=\"Szukanie\")\n",
    "print(task)"
   ]
  },
  {
   "cell_type": "markdown",
   "id": "b14a46de",
   "metadata": {},
   "source": [
    "Widzimy, że metoda filter zwraca obiekt QuerySet. QuerySet może być pusty."
   ]
  },
  {
   "cell_type": "code",
   "execution_count": 15,
   "id": "aa33723e",
   "metadata": {},
   "outputs": [
    {
     "name": "stdout",
     "output_type": "stream",
     "text": [
      "<QuerySet []>\n"
     ]
    }
   ],
   "source": [
    "task = Task.objects.filter(name=\"Coś czego nie ma w tabeli\")\n",
    "print(task)"
   ]
  },
  {
   "cell_type": "markdown",
   "id": "6537802e",
   "metadata": {},
   "source": [
    "QuerySet może być jednoelementowy."
   ]
  },
  {
   "cell_type": "code",
   "execution_count": 16,
   "id": "3b6d9b1e",
   "metadata": {},
   "outputs": [
    {
     "name": "stdout",
     "output_type": "stream",
     "text": [
      "<QuerySet [<Task: Task: [6] Programowanie>]>\n"
     ]
    }
   ],
   "source": [
    "task = Task.objects.filter(name=\"Programowanie\")\n",
    "print(task)"
   ]
  },
  {
   "cell_type": "markdown",
   "id": "1e992261",
   "metadata": {},
   "source": [
    "#### Metoda II - get"
   ]
  },
  {
   "cell_type": "markdown",
   "id": "c9fccdf5",
   "metadata": {},
   "source": [
    "W odróżnieniu od metody filter, metoda get zwraca instancję modelu (a nie obiekt klasy QuerySet)."
   ]
  },
  {
   "cell_type": "code",
   "execution_count": 17,
   "id": "46aa42ee",
   "metadata": {},
   "outputs": [
    {
     "name": "stdout",
     "output_type": "stream",
     "text": [
      "Task: [6] Programowanie\n",
      "<class 'form_app5.models.Task'>\n"
     ]
    }
   ],
   "source": [
    "task = Task.objects.get(name=\"Programowanie\")\n",
    "print(task)\n",
    "print(type(task))"
   ]
  },
  {
   "cell_type": "markdown",
   "id": "6b4c7114",
   "metadata": {},
   "source": [
    "Metoda get oczekuje, że w wyniku otrzyma **jeden i tylko jeden** wpis."
   ]
  },
  {
   "cell_type": "markdown",
   "id": "7e5f675d",
   "metadata": {},
   "source": [
    "Jeżeli zapytanie nie zwróci żadnego wpisu metoda get rzuci wyjątek *DoesNotExist*."
   ]
  },
  {
   "cell_type": "code",
   "execution_count": 18,
   "id": "7272ef03",
   "metadata": {},
   "outputs": [
    {
     "ename": "DoesNotExist",
     "evalue": "Task matching query does not exist.",
     "output_type": "error",
     "traceback": [
      "\u001b[1;31m---------------------------------------------------------------------------\u001b[0m",
      "\u001b[1;31mDoesNotExist\u001b[0m                              Traceback (most recent call last)",
      "Cell \u001b[1;32mIn[18], line 1\u001b[0m\n\u001b[1;32m----> 1\u001b[0m task \u001b[38;5;241m=\u001b[39m \u001b[43mTask\u001b[49m\u001b[38;5;241;43m.\u001b[39;49m\u001b[43mobjects\u001b[49m\u001b[38;5;241;43m.\u001b[39;49m\u001b[43mget\u001b[49m\u001b[43m(\u001b[49m\u001b[43mname\u001b[49m\u001b[38;5;241;43m=\u001b[39;49m\u001b[38;5;124;43m\"\u001b[39;49m\u001b[38;5;124;43mCoś czego nie ma w tabeli\u001b[39;49m\u001b[38;5;124;43m\"\u001b[39;49m\u001b[43m)\u001b[49m\n",
      "File \u001b[1;32m~\\PycharmProjects\\backend_intro_zdpytpol74\\venv\\Lib\\site-packages\\django\\db\\models\\manager.py:87\u001b[0m, in \u001b[0;36mBaseManager._get_queryset_methods.<locals>.create_method.<locals>.manager_method\u001b[1;34m(self, *args, **kwargs)\u001b[0m\n\u001b[0;32m     85\u001b[0m \u001b[38;5;129m@wraps\u001b[39m(method)\n\u001b[0;32m     86\u001b[0m \u001b[38;5;28;01mdef\u001b[39;00m \u001b[38;5;21mmanager_method\u001b[39m(\u001b[38;5;28mself\u001b[39m, \u001b[38;5;241m*\u001b[39margs, \u001b[38;5;241m*\u001b[39m\u001b[38;5;241m*\u001b[39mkwargs):\n\u001b[1;32m---> 87\u001b[0m     \u001b[38;5;28;01mreturn\u001b[39;00m \u001b[38;5;28;43mgetattr\u001b[39;49m\u001b[43m(\u001b[49m\u001b[38;5;28;43mself\u001b[39;49m\u001b[38;5;241;43m.\u001b[39;49m\u001b[43mget_queryset\u001b[49m\u001b[43m(\u001b[49m\u001b[43m)\u001b[49m\u001b[43m,\u001b[49m\u001b[43m \u001b[49m\u001b[43mname\u001b[49m\u001b[43m)\u001b[49m\u001b[43m(\u001b[49m\u001b[38;5;241;43m*\u001b[39;49m\u001b[43margs\u001b[49m\u001b[43m,\u001b[49m\u001b[43m \u001b[49m\u001b[38;5;241;43m*\u001b[39;49m\u001b[38;5;241;43m*\u001b[39;49m\u001b[43mkwargs\u001b[49m\u001b[43m)\u001b[49m\n",
      "File \u001b[1;32m~\\PycharmProjects\\backend_intro_zdpytpol74\\venv\\Lib\\site-packages\\django\\db\\models\\query.py:637\u001b[0m, in \u001b[0;36mQuerySet.get\u001b[1;34m(self, *args, **kwargs)\u001b[0m\n\u001b[0;32m    635\u001b[0m     \u001b[38;5;28;01mreturn\u001b[39;00m clone\u001b[38;5;241m.\u001b[39m_result_cache[\u001b[38;5;241m0\u001b[39m]\n\u001b[0;32m    636\u001b[0m \u001b[38;5;28;01mif\u001b[39;00m \u001b[38;5;129;01mnot\u001b[39;00m num:\n\u001b[1;32m--> 637\u001b[0m     \u001b[38;5;28;01mraise\u001b[39;00m \u001b[38;5;28mself\u001b[39m\u001b[38;5;241m.\u001b[39mmodel\u001b[38;5;241m.\u001b[39mDoesNotExist(\n\u001b[0;32m    638\u001b[0m         \u001b[38;5;124m\"\u001b[39m\u001b[38;5;132;01m%s\u001b[39;00m\u001b[38;5;124m matching query does not exist.\u001b[39m\u001b[38;5;124m\"\u001b[39m \u001b[38;5;241m%\u001b[39m \u001b[38;5;28mself\u001b[39m\u001b[38;5;241m.\u001b[39mmodel\u001b[38;5;241m.\u001b[39m_meta\u001b[38;5;241m.\u001b[39mobject_name\n\u001b[0;32m    639\u001b[0m     )\n\u001b[0;32m    640\u001b[0m \u001b[38;5;28;01mraise\u001b[39;00m \u001b[38;5;28mself\u001b[39m\u001b[38;5;241m.\u001b[39mmodel\u001b[38;5;241m.\u001b[39mMultipleObjectsReturned(\n\u001b[0;32m    641\u001b[0m     \u001b[38;5;124m\"\u001b[39m\u001b[38;5;124mget() returned more than one \u001b[39m\u001b[38;5;132;01m%s\u001b[39;00m\u001b[38;5;124m -- it returned \u001b[39m\u001b[38;5;132;01m%s\u001b[39;00m\u001b[38;5;124m!\u001b[39m\u001b[38;5;124m\"\u001b[39m\n\u001b[0;32m    642\u001b[0m     \u001b[38;5;241m%\u001b[39m (\n\u001b[1;32m   (...)\u001b[0m\n\u001b[0;32m    645\u001b[0m     )\n\u001b[0;32m    646\u001b[0m )\n",
      "\u001b[1;31mDoesNotExist\u001b[0m: Task matching query does not exist."
     ]
    }
   ],
   "source": [
    "task = Task.objects.get(name=\"Coś czego nie ma w tabeli\")"
   ]
  },
  {
   "cell_type": "markdown",
   "id": "9c4ffe91",
   "metadata": {},
   "source": [
    "Jeżeli zapytanie zwróci więcej niż jeden wpis metoda get rzuci wyjątek *MultipleObjectsReturned*."
   ]
  },
  {
   "cell_type": "code",
   "execution_count": 19,
   "id": "f5146137",
   "metadata": {},
   "outputs": [
    {
     "ename": "MultipleObjectsReturned",
     "evalue": "get() returned more than one Task -- it returned 2!",
     "output_type": "error",
     "traceback": [
      "\u001b[1;31m---------------------------------------------------------------------------\u001b[0m",
      "\u001b[1;31mMultipleObjectsReturned\u001b[0m                   Traceback (most recent call last)",
      "Cell \u001b[1;32mIn[19], line 1\u001b[0m\n\u001b[1;32m----> 1\u001b[0m \u001b[43mTask\u001b[49m\u001b[38;5;241;43m.\u001b[39;49m\u001b[43mobjects\u001b[49m\u001b[38;5;241;43m.\u001b[39;49m\u001b[43mget\u001b[49m\u001b[43m(\u001b[49m\u001b[43mname\u001b[49m\u001b[38;5;241;43m=\u001b[39;49m\u001b[38;5;124;43m\"\u001b[39;49m\u001b[38;5;124;43mSzukanie\u001b[39;49m\u001b[38;5;124;43m\"\u001b[39;49m\u001b[43m)\u001b[49m\n",
      "File \u001b[1;32m~\\PycharmProjects\\backend_intro_zdpytpol74\\venv\\Lib\\site-packages\\django\\db\\models\\manager.py:87\u001b[0m, in \u001b[0;36mBaseManager._get_queryset_methods.<locals>.create_method.<locals>.manager_method\u001b[1;34m(self, *args, **kwargs)\u001b[0m\n\u001b[0;32m     85\u001b[0m \u001b[38;5;129m@wraps\u001b[39m(method)\n\u001b[0;32m     86\u001b[0m \u001b[38;5;28;01mdef\u001b[39;00m \u001b[38;5;21mmanager_method\u001b[39m(\u001b[38;5;28mself\u001b[39m, \u001b[38;5;241m*\u001b[39margs, \u001b[38;5;241m*\u001b[39m\u001b[38;5;241m*\u001b[39mkwargs):\n\u001b[1;32m---> 87\u001b[0m     \u001b[38;5;28;01mreturn\u001b[39;00m \u001b[38;5;28;43mgetattr\u001b[39;49m\u001b[43m(\u001b[49m\u001b[38;5;28;43mself\u001b[39;49m\u001b[38;5;241;43m.\u001b[39;49m\u001b[43mget_queryset\u001b[49m\u001b[43m(\u001b[49m\u001b[43m)\u001b[49m\u001b[43m,\u001b[49m\u001b[43m \u001b[49m\u001b[43mname\u001b[49m\u001b[43m)\u001b[49m\u001b[43m(\u001b[49m\u001b[38;5;241;43m*\u001b[39;49m\u001b[43margs\u001b[49m\u001b[43m,\u001b[49m\u001b[43m \u001b[49m\u001b[38;5;241;43m*\u001b[39;49m\u001b[38;5;241;43m*\u001b[39;49m\u001b[43mkwargs\u001b[49m\u001b[43m)\u001b[49m\n",
      "File \u001b[1;32m~\\PycharmProjects\\backend_intro_zdpytpol74\\venv\\Lib\\site-packages\\django\\db\\models\\query.py:640\u001b[0m, in \u001b[0;36mQuerySet.get\u001b[1;34m(self, *args, **kwargs)\u001b[0m\n\u001b[0;32m    636\u001b[0m \u001b[38;5;28;01mif\u001b[39;00m \u001b[38;5;129;01mnot\u001b[39;00m num:\n\u001b[0;32m    637\u001b[0m     \u001b[38;5;28;01mraise\u001b[39;00m \u001b[38;5;28mself\u001b[39m\u001b[38;5;241m.\u001b[39mmodel\u001b[38;5;241m.\u001b[39mDoesNotExist(\n\u001b[0;32m    638\u001b[0m         \u001b[38;5;124m\"\u001b[39m\u001b[38;5;132;01m%s\u001b[39;00m\u001b[38;5;124m matching query does not exist.\u001b[39m\u001b[38;5;124m\"\u001b[39m \u001b[38;5;241m%\u001b[39m \u001b[38;5;28mself\u001b[39m\u001b[38;5;241m.\u001b[39mmodel\u001b[38;5;241m.\u001b[39m_meta\u001b[38;5;241m.\u001b[39mobject_name\n\u001b[0;32m    639\u001b[0m     )\n\u001b[1;32m--> 640\u001b[0m \u001b[38;5;28;01mraise\u001b[39;00m \u001b[38;5;28mself\u001b[39m\u001b[38;5;241m.\u001b[39mmodel\u001b[38;5;241m.\u001b[39mMultipleObjectsReturned(\n\u001b[0;32m    641\u001b[0m     \u001b[38;5;124m\"\u001b[39m\u001b[38;5;124mget() returned more than one \u001b[39m\u001b[38;5;132;01m%s\u001b[39;00m\u001b[38;5;124m -- it returned \u001b[39m\u001b[38;5;132;01m%s\u001b[39;00m\u001b[38;5;124m!\u001b[39m\u001b[38;5;124m\"\u001b[39m\n\u001b[0;32m    642\u001b[0m     \u001b[38;5;241m%\u001b[39m (\n\u001b[0;32m    643\u001b[0m         \u001b[38;5;28mself\u001b[39m\u001b[38;5;241m.\u001b[39mmodel\u001b[38;5;241m.\u001b[39m_meta\u001b[38;5;241m.\u001b[39mobject_name,\n\u001b[0;32m    644\u001b[0m         num \u001b[38;5;28;01mif\u001b[39;00m \u001b[38;5;129;01mnot\u001b[39;00m limit \u001b[38;5;129;01mor\u001b[39;00m num \u001b[38;5;241m<\u001b[39m limit \u001b[38;5;28;01melse\u001b[39;00m \u001b[38;5;124m\"\u001b[39m\u001b[38;5;124mmore than \u001b[39m\u001b[38;5;132;01m%s\u001b[39;00m\u001b[38;5;124m\"\u001b[39m \u001b[38;5;241m%\u001b[39m (limit \u001b[38;5;241m-\u001b[39m \u001b[38;5;241m1\u001b[39m),\n\u001b[0;32m    645\u001b[0m     )\n\u001b[0;32m    646\u001b[0m )\n",
      "\u001b[1;31mMultipleObjectsReturned\u001b[0m: get() returned more than one Task -- it returned 2!"
     ]
    }
   ],
   "source": [
    "Task.objects.get(name=\"Szukanie\")"
   ]
  },
  {
   "cell_type": "markdown",
   "id": "6efd3315",
   "metadata": {},
   "source": [
    "Podsumowując, metoda get w odróżnieniu od metody filter:\n",
    "* zwraca instancję modelu (a nie obiekty klasy QuerySet)\n",
    "* jeżeli w wyniku filtrowania otrzymamy pustą odpowiedź rzuci wyjątek *DoesNotExist* (a nie zwróci pusty QuerySet)\n",
    "* jeżeli w wyniku filtrowania otrzymamy więcej niż jeden wpis rzuci wyjątek *MultipleObjectsReturned* (a nie zwróci wieloelementowy QuerySet)"
   ]
  },
  {
   "cell_type": "markdown",
   "id": "e38c5c30",
   "metadata": {},
   "source": [
    "#### Field lookups (operatory klauzuli WHERE)"
   ]
  },
  {
   "cell_type": "markdown",
   "id": "4a338572",
   "metadata": {},
   "source": [
    "Klauzula WHERE posiada wiele operatorów takich jak: LIKE, IN, >, <, ... We frameworku Django implementujemy te operatory za pomocą tak zwanych field lookups. Składniowo używanie lookupów polega na dodaniu po nazwie kolumny w filtrze dwóch znaków __ a następnie odpowiedniego słówka, np. contains, startswith, lte (less than or equal), gt (greater than) ..."
   ]
  },
  {
   "cell_type": "markdown",
   "id": "aa11c81a",
   "metadata": {},
   "source": [
    "Znajdźmy wszystkie wpisy z tabeli Task, dla których wartość w kolumnie name rozpoczyna się na Pr."
   ]
  },
  {
   "cell_type": "code",
   "execution_count": 20,
   "id": "3f89740b",
   "metadata": {},
   "outputs": [
    {
     "name": "stdout",
     "output_type": "stream",
     "text": [
      "<QuerySet [<Task: Task: [6] Programowanie>, <Task: Task: [8] Pranie>]>\n"
     ]
    }
   ],
   "source": [
    "tasks = Task.objects.filter(name__startswith=\"Pr\")\n",
    "print(tasks)"
   ]
  },
  {
   "cell_type": "markdown",
   "id": "e243d46a",
   "metadata": {},
   "source": [
    "Popatrzmy na sql"
   ]
  },
  {
   "cell_type": "code",
   "execution_count": 21,
   "id": "a49c4d65",
   "metadata": {},
   "outputs": [
    {
     "name": "stdout",
     "output_type": "stream",
     "text": [
      "SELECT \"form_app5_task\".\"id\", \"form_app5_task\".\"name\" FROM \"form_app5_task\" WHERE \"form_app5_task\".\"name\" LIKE Pr% ESCAPE '\\'\n"
     ]
    }
   ],
   "source": [
    "print(tasks.query)"
   ]
  },
  {
   "cell_type": "markdown",
   "id": "728b8a45",
   "metadata": {},
   "source": [
    "Znajdźmy wszystkie wpisy z tabli Task, dla których wartość w kolumnie id jest większa bądź równa 5."
   ]
  },
  {
   "cell_type": "code",
   "execution_count": 22,
   "id": "38131f77",
   "metadata": {},
   "outputs": [
    {
     "name": "stdout",
     "output_type": "stream",
     "text": [
      "<QuerySet [<Task: Task: [5] Szukanie>, <Task: Task: [6] Programowanie>, <Task: Task: [7] Pływanie>, <Task: Task: [8] Pranie>, <Task: Task: [9] Dodawanie>]>\n"
     ]
    }
   ],
   "source": [
    "tasks = Task.objects.filter(id__gte=5)\n",
    "print(tasks)"
   ]
  },
  {
   "cell_type": "code",
   "execution_count": 23,
   "id": "6497aaea",
   "metadata": {},
   "outputs": [
    {
     "name": "stdout",
     "output_type": "stream",
     "text": [
      "SELECT \"form_app5_task\".\"id\", \"form_app5_task\".\"name\" FROM \"form_app5_task\" WHERE \"form_app5_task\".\"id\" >= 5\n"
     ]
    }
   ],
   "source": [
    "# sql?\n",
    "print(tasks.query)"
   ]
  },
  {
   "cell_type": "markdown",
   "id": "e80bd8a8",
   "metadata": {},
   "source": [
    "Znajdźmy wszystkie wpisy z tabeli Task, dla których wartość w kolumnie name zawiera ow."
   ]
  },
  {
   "cell_type": "code",
   "execution_count": 24,
   "id": "1d83c2d9",
   "metadata": {},
   "outputs": [
    {
     "name": "stdout",
     "output_type": "stream",
     "text": [
      "<QuerySet [<Task: Task: [3] Gotowanie>, <Task: Task: [6] Programowanie>]>\n"
     ]
    }
   ],
   "source": [
    "tasks = Task.objects.filter(name__contains=\"ow\")\n",
    "print(tasks)"
   ]
  },
  {
   "cell_type": "markdown",
   "id": "6a10d456",
   "metadata": {},
   "source": [
    "### Indeksowanie, wycinki (operatory LIMIT i OFFSET)"
   ]
  },
  {
   "cell_type": "markdown",
   "id": "6176728b",
   "metadata": {},
   "source": [
    "Klasa QuerySet wspiera indeksowanie oraz wycinki"
   ]
  },
  {
   "cell_type": "markdown",
   "id": "64a632de",
   "metadata": {},
   "source": [
    "Znajdźmy czwarty wpis w tabeli Task (indeksowanie od 0)."
   ]
  },
  {
   "cell_type": "code",
   "execution_count": 25,
   "id": "17162360",
   "metadata": {},
   "outputs": [
    {
     "name": "stdout",
     "output_type": "stream",
     "text": [
      "Task: [4] Szukanie\n",
      "<class 'form_app5.models.Task'>\n"
     ]
    }
   ],
   "source": [
    "task = Task.objects.all()[3]\n",
    "print(task)\n",
    "print(type(task))  # instancja modelu"
   ]
  },
  {
   "cell_type": "markdown",
   "id": "8b79695e",
   "metadata": {},
   "source": [
    "Znajdźmy pięc pierwszych wpisów w tabeli Task."
   ]
  },
  {
   "cell_type": "code",
   "execution_count": 26,
   "id": "ffdbcb8b",
   "metadata": {},
   "outputs": [
    {
     "name": "stdout",
     "output_type": "stream",
     "text": [
      "<QuerySet [<Task: Task: [1] Smażenie>, <Task: Task: [2] Pieczenie>, <Task: Task: [3] Gotowanie>, <Task: Task: [4] Szukanie>, <Task: Task: [5] Szukanie>]>\n"
     ]
    }
   ],
   "source": [
    "tasks = Task.objects.all()[:5]\n",
    "print(tasks)"
   ]
  },
  {
   "cell_type": "code",
   "execution_count": 27,
   "id": "1cc14f3e",
   "metadata": {},
   "outputs": [
    {
     "name": "stdout",
     "output_type": "stream",
     "text": [
      "SELECT \"form_app5_task\".\"id\", \"form_app5_task\".\"name\" FROM \"form_app5_task\" LIMIT 5\n"
     ]
    }
   ],
   "source": [
    "# sql?\n",
    "print(tasks.query)"
   ]
  },
  {
   "cell_type": "markdown",
   "id": "7c820ab7",
   "metadata": {},
   "source": [
    "Znajdźmy wszystkie wpisy w tabeli Task poza pięcioma pierwszymi."
   ]
  },
  {
   "cell_type": "code",
   "execution_count": 28,
   "id": "083c2f61",
   "metadata": {},
   "outputs": [
    {
     "name": "stdout",
     "output_type": "stream",
     "text": [
      "<QuerySet [<Task: Task: [6] Programowanie>, <Task: Task: [7] Pływanie>, <Task: Task: [8] Pranie>, <Task: Task: [9] Dodawanie>]>\n"
     ]
    }
   ],
   "source": [
    "tasks = Task.objects.all()[5:]\n",
    "print(tasks)"
   ]
  },
  {
   "cell_type": "code",
   "execution_count": 29,
   "id": "71bcbcb1",
   "metadata": {},
   "outputs": [
    {
     "name": "stdout",
     "output_type": "stream",
     "text": [
      "SELECT \"form_app5_task\".\"id\", \"form_app5_task\".\"name\" FROM \"form_app5_task\" LIMIT -1 OFFSET 5\n"
     ]
    }
   ],
   "source": [
    "# sql?\n",
    "print(tasks.query)"
   ]
  },
  {
   "cell_type": "markdown",
   "id": "afd9b43a",
   "metadata": {},
   "source": [
    "Znajdźmy co drugi wpis z tabeli Task (wycinki)"
   ]
  },
  {
   "cell_type": "code",
   "execution_count": 30,
   "id": "49f7c901",
   "metadata": {},
   "outputs": [
    {
     "name": "stdout",
     "output_type": "stream",
     "text": [
      "[<Task: Task: [1] Smażenie>, <Task: Task: [3] Gotowanie>, <Task: Task: [5] Szukanie>, <Task: Task: [7] Pływanie>, <Task: Task: [9] Dodawanie>]\n",
      "<class 'list'>\n"
     ]
    }
   ],
   "source": [
    "tasks = Task.objects.all()[::2]\n",
    "print(tasks)\n",
    "print(type(tasks))"
   ]
  },
  {
   "cell_type": "markdown",
   "id": "6544a394",
   "metadata": {},
   "source": [
    "**Uwaga!**\n",
    "\n",
    "W ostatnim przykładzie wycinek zwraca **listę instancji modelu**, a nie QuerySet."
   ]
  },
  {
   "cell_type": "markdown",
   "id": "eecea0f9",
   "metadata": {},
   "source": [
    "**Uwaga!** \n",
    "\n",
    "QuerySet w odróżnieniu od listy Pythonowej nie obsługuje negatywnych indeksów."
   ]
  }
 ],
 "metadata": {
  "kernelspec": {
   "display_name": "Python 3 (ipykernel)",
   "language": "python",
   "name": "python3"
  },
  "language_info": {
   "codemirror_mode": {
    "name": "ipython",
    "version": 3
   },
   "file_extension": ".py",
   "mimetype": "text/x-python",
   "name": "python",
   "nbconvert_exporter": "python",
   "pygments_lexer": "ipython3",
   "version": "3.11.1"
  }
 },
 "nbformat": 4,
 "nbformat_minor": 5
}
