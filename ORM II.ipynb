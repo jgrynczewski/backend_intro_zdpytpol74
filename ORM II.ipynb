{
 "cells": [
  {
   "cell_type": "markdown",
   "id": "6144477a",
   "metadata": {},
   "source": [
    "# Django ORM - Praca z danymi (komendy DML i DQL)"
   ]
  },
  {
   "cell_type": "markdown",
   "id": "f54273a4",
   "metadata": {},
   "source": [
    "**Definicje modelu**\n",
    "\n",
    "<code>class Task(models.Model):\n",
    "    name = models.CharField(max_length=64)\n",
    "</code>\n",
    "<code>\n",
    "    def __str__(self):\n",
    "        return f\"{self.name}\"\n",
    "</code>"
   ]
  },
  {
   "cell_type": "code",
   "execution_count": 1,
   "id": "adfe4c55",
   "metadata": {},
   "outputs": [],
   "source": [
    "import os\n",
    "import django\n",
    "os.environ.setdefault('DJANGO_SETTINGS_MODULE', 'rest.settings')\n",
    "os.environ[\"DJANGO_ALLOW_ASYNC_UNSAFE\"] = \"true\"\n",
    "django.setup()"
   ]
  },
  {
   "cell_type": "code",
   "execution_count": 2,
   "id": "81e61eff",
   "metadata": {},
   "outputs": [],
   "source": [
    "from form_app5.models import Task"
   ]
  },
  {
   "cell_type": "markdown",
   "id": "dd08bad7",
   "metadata": {},
   "source": [
    "## R - Read (CRUD) - DQL (Data Query Language) cd"
   ]
  },
  {
   "cell_type": "markdown",
   "id": "9af4fd03",
   "metadata": {},
   "source": [
    "### Składanie warunków (operator AND)"
   ]
  },
  {
   "cell_type": "markdown",
   "id": "d9435cd9",
   "metadata": {},
   "source": [
    "Wypisywanie kolejnych warunków po przecinku, jako kolejnych parametrów funkcji filter powoduje składanie tych warunków (koniunkcje/iloczyn logiczną) - operator AND."
   ]
  },
  {
   "cell_type": "markdown",
   "id": "3b918055",
   "metadata": {},
   "source": [
    "Znajdż wszystkie wpisy w tabeli Task, które zaczynają się na Pr **i** kończą na anie."
   ]
  },
  {
   "cell_type": "code",
   "execution_count": 3,
   "id": "66bafd32",
   "metadata": {},
   "outputs": [
    {
     "name": "stdout",
     "output_type": "stream",
     "text": [
      "<QuerySet [<Task: Programowanie>, <Task: Pranie>]>\n"
     ]
    }
   ],
   "source": [
    "# metoda I\n",
    "task = Task.objects.filter(name__startswith=\"Pr\").filter(name__endswith=\"anie\")\n",
    "\n",
    "# metoda II\n",
    "tasks = Task.objects.filter(name__startswith=\"Pr\", name__endswith=\"anie\")\n",
    "print(tasks)"
   ]
  },
  {
   "cell_type": "markdown",
   "id": "e30c2de8",
   "metadata": {},
   "source": [
    "### Sortowanie - metoda order_by (klauzula ORDER BY)"
   ]
  },
  {
   "cell_type": "markdown",
   "id": "e0c87396",
   "metadata": {},
   "source": [
    "Klauzula ORDER BY implementowana jest w Django przez metodę order_by klasy QuerySet. Metoda order_by jako parametr przyjmuje nazwę kolumny, po której dane mają zostać posortowane. Może przyjąć więcej niż jeden parametr, wtedy wpisy które mają identyczną wartość w pierwszej kolumnie będą sortowane po drugiej wpisanej kolumnie, itd. Wartości w kolumnach tekstowych sortowane są alfabetycznie, a wartości w kolumnach liczbowych numerycznie."
   ]
  },
  {
   "cell_type": "markdown",
   "id": "8cb28680",
   "metadata": {},
   "source": [
    "Posortujemy wpisy w tabeli Task po wartościach w kolumnie name."
   ]
  },
  {
   "cell_type": "code",
   "execution_count": 4,
   "id": "970cf2bd",
   "metadata": {},
   "outputs": [
    {
     "name": "stdout",
     "output_type": "stream",
     "text": [
      "10 Dodawanie\n",
      "3 Gotowanie\n",
      "1 Mycie\n",
      "2 Pieczenie\n",
      "9 Pranie\n",
      "7 Programowanie\n",
      "8 Pływanie\n",
      "4 Smażenie\n",
      "5 Szukanie\n",
      "6 Szukanie\n"
     ]
    }
   ],
   "source": [
    "tasks = Task.objects.order_by('name')\n",
    "for task in tasks:\n",
    "    print(f\"{task.id} {task.name}\")"
   ]
  },
  {
   "cell_type": "code",
   "execution_count": 5,
   "id": "86296aca",
   "metadata": {},
   "outputs": [
    {
     "name": "stdout",
     "output_type": "stream",
     "text": [
      "SELECT \"form_app5_task\".\"id\", \"form_app5_task\".\"name\" FROM \"form_app5_task\" ORDER BY \"form_app5_task\".\"name\" ASC\n"
     ]
    }
   ],
   "source": [
    "# sql?\n",
    "print(tasks.query)"
   ]
  },
  {
   "cell_type": "markdown",
   "id": "00d0f4e5",
   "metadata": {},
   "source": [
    "Posortujmy wpisy w tabeli Task po kolumnie name, a wpisy które mają identyczną wartość w kolumnie name po kolumnie id."
   ]
  },
  {
   "cell_type": "code",
   "execution_count": 6,
   "id": "3e75256a",
   "metadata": {},
   "outputs": [
    {
     "name": "stdout",
     "output_type": "stream",
     "text": [
      "10 Dodawanie\n",
      "3 Gotowanie\n",
      "1 Mycie\n",
      "2 Pieczenie\n",
      "9 Pranie\n",
      "7 Programowanie\n",
      "8 Pływanie\n",
      "4 Smażenie\n",
      "5 Szukanie\n",
      "6 Szukanie\n"
     ]
    }
   ],
   "source": [
    "tasks = Task.objects.order_by('name', 'id')\n",
    "for task in tasks:\n",
    "    print(f\"{task.id} {task.name}\")"
   ]
  },
  {
   "cell_type": "markdown",
   "id": "cf0eb7c2",
   "metadata": {},
   "source": [
    "#### Sortowanie odwrotne - Metoda I (metoda reverse)"
   ]
  },
  {
   "cell_type": "markdown",
   "id": "775558f4",
   "metadata": {},
   "source": [
    "Sortować w kolejności odwrotnej możemy z użyciem metody reverse()"
   ]
  },
  {
   "cell_type": "code",
   "execution_count": 7,
   "id": "630cecf3",
   "metadata": {},
   "outputs": [
    {
     "name": "stdout",
     "output_type": "stream",
     "text": [
      "5 Szukanie\n",
      "6 Szukanie\n",
      "4 Smażenie\n",
      "8 Pływanie\n",
      "7 Programowanie\n",
      "9 Pranie\n",
      "2 Pieczenie\n",
      "1 Mycie\n",
      "3 Gotowanie\n",
      "10 Dodawanie\n"
     ]
    }
   ],
   "source": [
    "tasks = Task.objects.order_by('name').reverse()\n",
    "for task in tasks:\n",
    "    print(f\"{task.id} {task.name}\")"
   ]
  },
  {
   "cell_type": "code",
   "execution_count": 8,
   "id": "d5995da2",
   "metadata": {},
   "outputs": [
    {
     "name": "stdout",
     "output_type": "stream",
     "text": [
      "SELECT \"form_app5_task\".\"id\", \"form_app5_task\".\"name\" FROM \"form_app5_task\" ORDER BY \"form_app5_task\".\"name\" DESC\n"
     ]
    }
   ],
   "source": [
    "print(tasks.query)"
   ]
  },
  {
   "cell_type": "markdown",
   "id": "e98e0e94",
   "metadata": {},
   "source": [
    "#### Sortowanie odwrotne - Metoda II (nazwa kolumny)"
   ]
  },
  {
   "cell_type": "markdown",
   "id": "90b7a866",
   "metadata": {},
   "source": [
    "lub poprzez wstawienie przed nazwą kolumny minusa."
   ]
  },
  {
   "cell_type": "code",
   "execution_count": 9,
   "id": "397b309a",
   "metadata": {},
   "outputs": [
    {
     "name": "stdout",
     "output_type": "stream",
     "text": [
      "5 Szukanie\n",
      "6 Szukanie\n",
      "4 Smażenie\n",
      "8 Pływanie\n",
      "7 Programowanie\n",
      "9 Pranie\n",
      "2 Pieczenie\n",
      "1 Mycie\n",
      "3 Gotowanie\n",
      "10 Dodawanie\n"
     ]
    }
   ],
   "source": [
    "tasks = Task.objects.order_by('-name')\n",
    "for task in tasks:\n",
    "    print(f\"{task.id} {task.name}\")"
   ]
  },
  {
   "cell_type": "markdown",
   "id": "61c2d646",
   "metadata": {},
   "source": [
    "### Funkcja agregujące"
   ]
  },
  {
   "cell_type": "markdown",
   "id": "ec8a3c23",
   "metadata": {},
   "source": [
    "Funkcje agregujące w sql to operatory, które wykonują na wskazanych danych proste statystyki takie jak średnia, wartość maksymalna, suma czy liczba wpisów (SUM, AVG, MIN, MAX, COUNT). W Django funkcje agregujące realizowane są przez metodę aggregate. Metoda aggregate jako parametr przyjmuje wywołanie odpowiedniej klasy z modułu django.db.models (Sum, Avg, Min, Max, Count, ...)."
   ]
  },
  {
   "cell_type": "markdown",
   "id": "e06c00fe",
   "metadata": {},
   "source": [
    "Znajdź sumę indeksów wszystkich wpisów tabeli Task. "
   ]
  },
  {
   "cell_type": "code",
   "execution_count": 10,
   "id": "d422baaf",
   "metadata": {},
   "outputs": [
    {
     "name": "stdout",
     "output_type": "stream",
     "text": [
      "{'id__sum': 55}\n"
     ]
    }
   ],
   "source": [
    "from django.db.models import Sum\n",
    "\n",
    "a_sum = Task.objects.aggregate(Sum('id'))\n",
    "print(a_sum)"
   ]
  },
  {
   "cell_type": "markdown",
   "id": "adff4130",
   "metadata": {},
   "source": [
    "Funkcja agregująca zwraca słownik z kluczem \n",
    "< nazwa_kolumny_wzdluz_ktorej_zachodzi_agregacja >_ _<nazwa_funkcji_agregującej> oraz wartością będąca wyliczoną statystyką."
   ]
  },
  {
   "cell_type": "markdown",
   "id": "9502e4a8",
   "metadata": {},
   "source": [
    "Znajdź średnią wartość indeksu wpisów tabeli Task o wartości w kolumnie name \"Szukanie\""
   ]
  },
  {
   "cell_type": "code",
   "execution_count": 11,
   "id": "756a3310",
   "metadata": {},
   "outputs": [
    {
     "name": "stdout",
     "output_type": "stream",
     "text": [
      "{'id__avg': 5.5}\n"
     ]
    }
   ],
   "source": [
    "from django.db.models import Avg\n",
    "\n",
    "avg = Task.objects.filter(name=\"Szukanie\").aggregate(Avg('id'))\n",
    "print(avg)"
   ]
  },
  {
   "cell_type": "markdown",
   "id": "b9bd1611",
   "metadata": {},
   "source": [
    "## U - UPDATE (CRUD) - DML (Data Manipulation Language)"
   ]
  },
  {
   "cell_type": "markdown",
   "id": "0d8cf797",
   "metadata": {},
   "source": [
    "### Klauzula UPDATE"
   ]
  },
  {
   "cell_type": "code",
   "execution_count": 13,
   "id": "fecee9a8",
   "metadata": {},
   "outputs": [
    {
     "name": "stdout",
     "output_type": "stream",
     "text": [
      "2\n"
     ]
    }
   ],
   "source": [
    "# Metoda I - metoda update mandżera modelu (i QuerySet-a)\n",
    "# UWAGA! Dane należy najperw przefiltrować, żeby jednym zapytanie NIE ZMIENIĆ WSZYSTKICH wpisów \n",
    "# w tabeli.\n",
    "\n",
    "tasks = Task.objects.filter(name__endswith=\"enie\").update(name=\"GGotowanie\")\n",
    "print(tasks)"
   ]
  },
  {
   "cell_type": "markdown",
   "id": "9bd74f21",
   "metadata": {},
   "source": [
    "Widzimy, że metoda update nie zwraca nam obiektu klasy QuerySet tylko liczbę zmodyfikowanych wpisów."
   ]
  },
  {
   "cell_type": "code",
   "execution_count": 12,
   "id": "599e99c7",
   "metadata": {},
   "outputs": [],
   "source": [
    "# Metoda II - bezpośrednia modyfikacja wartości atrybutu instancji modelu\n",
    "\n",
    "task = Task.objects.get(name=\"Dodawanie\")\n",
    "task.name = \"Odejmowanie\"\n",
    "task.save()"
   ]
  },
  {
   "cell_type": "markdown",
   "id": "c6abd166",
   "metadata": {},
   "source": [
    "## D - DELETE (CRUD) - DML (DATA Manipulation Language)"
   ]
  },
  {
   "cell_type": "markdown",
   "id": "03db1d66",
   "metadata": {},
   "source": [
    "### Klauzula DELETE"
   ]
  },
  {
   "cell_type": "code",
   "execution_count": 15,
   "id": "2f524fa8",
   "metadata": {},
   "outputs": [
    {
     "name": "stdout",
     "output_type": "stream",
     "text": [
      "(1, {'form_app5.Task': 1})\n"
     ]
    }
   ],
   "source": [
    "# Metoda I - metoda delete menadżera modelu (i QuerySet-a)\n",
    "# UWAGA! Dane należy najperw przefiltrować, żeby jednym zapytanie NIE USUNĄĆ WSZYSTKICH wpisów \n",
    "# w tabeli.\n",
    "\n",
    "task = Task.objects.filter(name=\"Pływanie\").delete()\n",
    "print(task)"
   ]
  },
  {
   "cell_type": "markdown",
   "id": "e51f9359",
   "metadata": {},
   "source": [
    "Podobnie jak metoda update, metoda delete nie zwraca nam obiektu klasy Queryset tylko informacje o liczbie usuniętych wpisów (tym razem w postaci tupli, której pierwszy element to całkowita liczba usuniętych wpisów, a drugi element to słownik z kluczami będącymi nazwami modelu i wartościami będącymi liczbą usuniętych w danym modelu wpisów)."
   ]
  },
  {
   "cell_type": "code",
   "execution_count": 14,
   "id": "c5934a2f",
   "metadata": {},
   "outputs": [
    {
     "data": {
      "text/plain": [
       "(1, {'form_app5.Task': 1})"
      ]
     },
     "execution_count": 14,
     "metadata": {},
     "output_type": "execute_result"
    }
   ],
   "source": [
    "# Metoda II - metoda delete instancji modelu\n",
    "\n",
    "task = Task.objects.get(name=\"Odejmowanie\")\n",
    "task.delete()"
   ]
  },
  {
   "cell_type": "markdown",
   "id": "b4b7d85e",
   "metadata": {},
   "source": [
    "Metoda delete instancji modelu zwraca nam identyczną odpowiedź co metoda delete menadżera modelu (i Queryset-a)"
   ]
  }
 ],
 "metadata": {
  "kernelspec": {
   "display_name": "Django Shell-Plus",
   "language": "python",
   "name": "django_extensions"
  },
  "language_info": {
   "codemirror_mode": {
    "name": "ipython",
    "version": 3
   },
   "file_extension": ".py",
   "mimetype": "text/x-python",
   "name": "python",
   "nbconvert_exporter": "python",
   "pygments_lexer": "ipython3",
   "version": "3.11.1"
  }
 },
 "nbformat": 4,
 "nbformat_minor": 5
}
